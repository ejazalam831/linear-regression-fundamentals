{
  "cells": [
    {
      "cell_type": "markdown",
      "metadata": {
        "id": "ouU36JaoyG83"
      },
      "source": [
        "# Linear Regression Fundamentals\n",
        "In the subfield of machine learning within artificial intelligence, linear regression plays a crucial role. It is one of the basic machine learning algorithms that is commonly used because of its simplicity and well understood characteristics.\n",
        "\n",
        "Imagine you’re a *waiter at a restaurant*, and you’re curious about how much tip you might get from different tables. You’ve been keeping track of your tips, and you’ve noticed that there seems to be a relationship between the total bill and the tip amount. This is where linear regression can help us understand this relationship better!"
      ]
    },
    {
      "cell_type": "markdown",
      "source": [
        "**Outline:**\n",
        "\n",
        "1. Dataset\n",
        "\n",
        "2. Simple Linear Regression\n",
        "\n",
        "3. Understanding Loss Functions and Model Optimization\n",
        "\n",
        "4. Multiple Linear Regression\n",
        "\n",
        "5. Handling Non-Numeric Features"
      ],
      "metadata": {
        "id": "AEeOXvtXBrnF"
      }
    },
    {
      "cell_type": "markdown",
      "metadata": {
        "id": "o7Mw9N0UyG85"
      },
      "source": [
        "#### **Importing Libraries**\n",
        "We'll start by importing the necessary libraries and loading our dataset"
      ]
    },
    {
      "cell_type": "code",
      "execution_count": 2,
      "metadata": {
        "id": "TkPr_Wk3yG86"
      },
      "outputs": [],
      "source": [
        "import pandas as pd\n",
        "import numpy as np\n",
        "import matplotlib.pyplot as plt\n",
        "import seaborn as sns\n",
        "from sklearn.linear_model import LinearRegression\n",
        "from sklearn.metrics import mean_squared_error\n",
        "from scipy import optimize"
      ]
    },
    {
      "cell_type": "markdown",
      "metadata": {
        "id": "f6f9wWRlyG86"
      },
      "source": [
        "## 1. Dataset\n",
        "*Seaborn statistical* library provides several built-in datasets and one of the most commonly used datasets is the **tips** dataset. This dataset contains information about the tips received by a waitstaff at a restaurant in the United States, including the total bill, tip amount, and other variables. Let’s load the dataset and take a look at some of the rows\n"
      ]
    },
    {
      "cell_type": "code",
      "execution_count": 3,
      "metadata": {
        "scrolled": true,
        "colab": {
          "base_uri": "https://localhost:8080/",
          "height": 206
        },
        "id": "JDQRs2IfyG87",
        "outputId": "7207de8e-48f1-42cc-ea55-1b60b6ec3014"
      },
      "outputs": [
        {
          "output_type": "execute_result",
          "data": {
            "text/plain": [
              "     total_bill   tip     sex smoker  day    time  size\n",
              "222        8.58  1.92    Male    Yes  Fri   Lunch     1\n",
              "34        17.78  3.27    Male     No  Sat  Dinner     2\n",
              "235       10.07  1.25    Male     No  Sat  Dinner     2\n",
              "159       16.49  2.00    Male     No  Sun  Dinner     4\n",
              "32        15.06  3.00  Female     No  Sat  Dinner     2"
            ],
            "text/html": [
              "\n",
              "  <div id=\"df-e3af3f4d-c13b-479b-ad96-55f886112464\" class=\"colab-df-container\">\n",
              "    <div>\n",
              "<style scoped>\n",
              "    .dataframe tbody tr th:only-of-type {\n",
              "        vertical-align: middle;\n",
              "    }\n",
              "\n",
              "    .dataframe tbody tr th {\n",
              "        vertical-align: top;\n",
              "    }\n",
              "\n",
              "    .dataframe thead th {\n",
              "        text-align: right;\n",
              "    }\n",
              "</style>\n",
              "<table border=\"1\" class=\"dataframe\">\n",
              "  <thead>\n",
              "    <tr style=\"text-align: right;\">\n",
              "      <th></th>\n",
              "      <th>total_bill</th>\n",
              "      <th>tip</th>\n",
              "      <th>sex</th>\n",
              "      <th>smoker</th>\n",
              "      <th>day</th>\n",
              "      <th>time</th>\n",
              "      <th>size</th>\n",
              "    </tr>\n",
              "  </thead>\n",
              "  <tbody>\n",
              "    <tr>\n",
              "      <th>222</th>\n",
              "      <td>8.58</td>\n",
              "      <td>1.92</td>\n",
              "      <td>Male</td>\n",
              "      <td>Yes</td>\n",
              "      <td>Fri</td>\n",
              "      <td>Lunch</td>\n",
              "      <td>1</td>\n",
              "    </tr>\n",
              "    <tr>\n",
              "      <th>34</th>\n",
              "      <td>17.78</td>\n",
              "      <td>3.27</td>\n",
              "      <td>Male</td>\n",
              "      <td>No</td>\n",
              "      <td>Sat</td>\n",
              "      <td>Dinner</td>\n",
              "      <td>2</td>\n",
              "    </tr>\n",
              "    <tr>\n",
              "      <th>235</th>\n",
              "      <td>10.07</td>\n",
              "      <td>1.25</td>\n",
              "      <td>Male</td>\n",
              "      <td>No</td>\n",
              "      <td>Sat</td>\n",
              "      <td>Dinner</td>\n",
              "      <td>2</td>\n",
              "    </tr>\n",
              "    <tr>\n",
              "      <th>159</th>\n",
              "      <td>16.49</td>\n",
              "      <td>2.00</td>\n",
              "      <td>Male</td>\n",
              "      <td>No</td>\n",
              "      <td>Sun</td>\n",
              "      <td>Dinner</td>\n",
              "      <td>4</td>\n",
              "    </tr>\n",
              "    <tr>\n",
              "      <th>32</th>\n",
              "      <td>15.06</td>\n",
              "      <td>3.00</td>\n",
              "      <td>Female</td>\n",
              "      <td>No</td>\n",
              "      <td>Sat</td>\n",
              "      <td>Dinner</td>\n",
              "      <td>2</td>\n",
              "    </tr>\n",
              "  </tbody>\n",
              "</table>\n",
              "</div>\n",
              "    <div class=\"colab-df-buttons\">\n",
              "\n",
              "  <div class=\"colab-df-container\">\n",
              "    <button class=\"colab-df-convert\" onclick=\"convertToInteractive('df-e3af3f4d-c13b-479b-ad96-55f886112464')\"\n",
              "            title=\"Convert this dataframe to an interactive table.\"\n",
              "            style=\"display:none;\">\n",
              "\n",
              "  <svg xmlns=\"http://www.w3.org/2000/svg\" height=\"24px\" viewBox=\"0 -960 960 960\">\n",
              "    <path d=\"M120-120v-720h720v720H120Zm60-500h600v-160H180v160Zm220 220h160v-160H400v160Zm0 220h160v-160H400v160ZM180-400h160v-160H180v160Zm440 0h160v-160H620v160ZM180-180h160v-160H180v160Zm440 0h160v-160H620v160Z\"/>\n",
              "  </svg>\n",
              "    </button>\n",
              "\n",
              "  <style>\n",
              "    .colab-df-container {\n",
              "      display:flex;\n",
              "      gap: 12px;\n",
              "    }\n",
              "\n",
              "    .colab-df-convert {\n",
              "      background-color: #E8F0FE;\n",
              "      border: none;\n",
              "      border-radius: 50%;\n",
              "      cursor: pointer;\n",
              "      display: none;\n",
              "      fill: #1967D2;\n",
              "      height: 32px;\n",
              "      padding: 0 0 0 0;\n",
              "      width: 32px;\n",
              "    }\n",
              "\n",
              "    .colab-df-convert:hover {\n",
              "      background-color: #E2EBFA;\n",
              "      box-shadow: 0px 1px 2px rgba(60, 64, 67, 0.3), 0px 1px 3px 1px rgba(60, 64, 67, 0.15);\n",
              "      fill: #174EA6;\n",
              "    }\n",
              "\n",
              "    .colab-df-buttons div {\n",
              "      margin-bottom: 4px;\n",
              "    }\n",
              "\n",
              "    [theme=dark] .colab-df-convert {\n",
              "      background-color: #3B4455;\n",
              "      fill: #D2E3FC;\n",
              "    }\n",
              "\n",
              "    [theme=dark] .colab-df-convert:hover {\n",
              "      background-color: #434B5C;\n",
              "      box-shadow: 0px 1px 3px 1px rgba(0, 0, 0, 0.15);\n",
              "      filter: drop-shadow(0px 1px 2px rgba(0, 0, 0, 0.3));\n",
              "      fill: #FFFFFF;\n",
              "    }\n",
              "  </style>\n",
              "\n",
              "    <script>\n",
              "      const buttonEl =\n",
              "        document.querySelector('#df-e3af3f4d-c13b-479b-ad96-55f886112464 button.colab-df-convert');\n",
              "      buttonEl.style.display =\n",
              "        google.colab.kernel.accessAllowed ? 'block' : 'none';\n",
              "\n",
              "      async function convertToInteractive(key) {\n",
              "        const element = document.querySelector('#df-e3af3f4d-c13b-479b-ad96-55f886112464');\n",
              "        const dataTable =\n",
              "          await google.colab.kernel.invokeFunction('convertToInteractive',\n",
              "                                                    [key], {});\n",
              "        if (!dataTable) return;\n",
              "\n",
              "        const docLinkHtml = 'Like what you see? Visit the ' +\n",
              "          '<a target=\"_blank\" href=https://colab.research.google.com/notebooks/data_table.ipynb>data table notebook</a>'\n",
              "          + ' to learn more about interactive tables.';\n",
              "        element.innerHTML = '';\n",
              "        dataTable['output_type'] = 'display_data';\n",
              "        await google.colab.output.renderOutput(dataTable, element);\n",
              "        const docLink = document.createElement('div');\n",
              "        docLink.innerHTML = docLinkHtml;\n",
              "        element.appendChild(docLink);\n",
              "      }\n",
              "    </script>\n",
              "  </div>\n",
              "\n",
              "\n",
              "    <div id=\"df-f019538d-9d42-4725-b998-48ebc269f200\">\n",
              "      <button class=\"colab-df-quickchart\" onclick=\"quickchart('df-f019538d-9d42-4725-b998-48ebc269f200')\"\n",
              "                title=\"Suggest charts\"\n",
              "                style=\"display:none;\">\n",
              "\n",
              "<svg xmlns=\"http://www.w3.org/2000/svg\" height=\"24px\"viewBox=\"0 0 24 24\"\n",
              "     width=\"24px\">\n",
              "    <g>\n",
              "        <path d=\"M19 3H5c-1.1 0-2 .9-2 2v14c0 1.1.9 2 2 2h14c1.1 0 2-.9 2-2V5c0-1.1-.9-2-2-2zM9 17H7v-7h2v7zm4 0h-2V7h2v10zm4 0h-2v-4h2v4z\"/>\n",
              "    </g>\n",
              "</svg>\n",
              "      </button>\n",
              "\n",
              "<style>\n",
              "  .colab-df-quickchart {\n",
              "      --bg-color: #E8F0FE;\n",
              "      --fill-color: #1967D2;\n",
              "      --hover-bg-color: #E2EBFA;\n",
              "      --hover-fill-color: #174EA6;\n",
              "      --disabled-fill-color: #AAA;\n",
              "      --disabled-bg-color: #DDD;\n",
              "  }\n",
              "\n",
              "  [theme=dark] .colab-df-quickchart {\n",
              "      --bg-color: #3B4455;\n",
              "      --fill-color: #D2E3FC;\n",
              "      --hover-bg-color: #434B5C;\n",
              "      --hover-fill-color: #FFFFFF;\n",
              "      --disabled-bg-color: #3B4455;\n",
              "      --disabled-fill-color: #666;\n",
              "  }\n",
              "\n",
              "  .colab-df-quickchart {\n",
              "    background-color: var(--bg-color);\n",
              "    border: none;\n",
              "    border-radius: 50%;\n",
              "    cursor: pointer;\n",
              "    display: none;\n",
              "    fill: var(--fill-color);\n",
              "    height: 32px;\n",
              "    padding: 0;\n",
              "    width: 32px;\n",
              "  }\n",
              "\n",
              "  .colab-df-quickchart:hover {\n",
              "    background-color: var(--hover-bg-color);\n",
              "    box-shadow: 0 1px 2px rgba(60, 64, 67, 0.3), 0 1px 3px 1px rgba(60, 64, 67, 0.15);\n",
              "    fill: var(--button-hover-fill-color);\n",
              "  }\n",
              "\n",
              "  .colab-df-quickchart-complete:disabled,\n",
              "  .colab-df-quickchart-complete:disabled:hover {\n",
              "    background-color: var(--disabled-bg-color);\n",
              "    fill: var(--disabled-fill-color);\n",
              "    box-shadow: none;\n",
              "  }\n",
              "\n",
              "  .colab-df-spinner {\n",
              "    border: 2px solid var(--fill-color);\n",
              "    border-color: transparent;\n",
              "    border-bottom-color: var(--fill-color);\n",
              "    animation:\n",
              "      spin 1s steps(1) infinite;\n",
              "  }\n",
              "\n",
              "  @keyframes spin {\n",
              "    0% {\n",
              "      border-color: transparent;\n",
              "      border-bottom-color: var(--fill-color);\n",
              "      border-left-color: var(--fill-color);\n",
              "    }\n",
              "    20% {\n",
              "      border-color: transparent;\n",
              "      border-left-color: var(--fill-color);\n",
              "      border-top-color: var(--fill-color);\n",
              "    }\n",
              "    30% {\n",
              "      border-color: transparent;\n",
              "      border-left-color: var(--fill-color);\n",
              "      border-top-color: var(--fill-color);\n",
              "      border-right-color: var(--fill-color);\n",
              "    }\n",
              "    40% {\n",
              "      border-color: transparent;\n",
              "      border-right-color: var(--fill-color);\n",
              "      border-top-color: var(--fill-color);\n",
              "    }\n",
              "    60% {\n",
              "      border-color: transparent;\n",
              "      border-right-color: var(--fill-color);\n",
              "    }\n",
              "    80% {\n",
              "      border-color: transparent;\n",
              "      border-right-color: var(--fill-color);\n",
              "      border-bottom-color: var(--fill-color);\n",
              "    }\n",
              "    90% {\n",
              "      border-color: transparent;\n",
              "      border-bottom-color: var(--fill-color);\n",
              "    }\n",
              "  }\n",
              "</style>\n",
              "\n",
              "      <script>\n",
              "        async function quickchart(key) {\n",
              "          const quickchartButtonEl =\n",
              "            document.querySelector('#' + key + ' button');\n",
              "          quickchartButtonEl.disabled = true;  // To prevent multiple clicks.\n",
              "          quickchartButtonEl.classList.add('colab-df-spinner');\n",
              "          try {\n",
              "            const charts = await google.colab.kernel.invokeFunction(\n",
              "                'suggestCharts', [key], {});\n",
              "          } catch (error) {\n",
              "            console.error('Error during call to suggestCharts:', error);\n",
              "          }\n",
              "          quickchartButtonEl.classList.remove('colab-df-spinner');\n",
              "          quickchartButtonEl.classList.add('colab-df-quickchart-complete');\n",
              "        }\n",
              "        (() => {\n",
              "          let quickchartButtonEl =\n",
              "            document.querySelector('#df-f019538d-9d42-4725-b998-48ebc269f200 button');\n",
              "          quickchartButtonEl.style.display =\n",
              "            google.colab.kernel.accessAllowed ? 'block' : 'none';\n",
              "        })();\n",
              "      </script>\n",
              "    </div>\n",
              "\n",
              "    </div>\n",
              "  </div>\n"
            ],
            "application/vnd.google.colaboratory.intrinsic+json": {
              "type": "dataframe",
              "summary": "{\n  \"name\": \"data\",\n  \"rows\": 5,\n  \"fields\": [\n    {\n      \"column\": \"total_bill\",\n      \"properties\": {\n        \"dtype\": \"number\",\n        \"std\": 4.050225919624731,\n        \"min\": 8.58,\n        \"max\": 17.78,\n        \"num_unique_values\": 5,\n        \"samples\": [\n          17.78,\n          15.06,\n          10.07\n        ],\n        \"semantic_type\": \"\",\n        \"description\": \"\"\n      }\n    },\n    {\n      \"column\": \"tip\",\n      \"properties\": {\n        \"dtype\": \"number\",\n        \"std\": 0.8317271187114197,\n        \"min\": 1.25,\n        \"max\": 3.27,\n        \"num_unique_values\": 5,\n        \"samples\": [\n          3.27,\n          3.0,\n          1.25\n        ],\n        \"semantic_type\": \"\",\n        \"description\": \"\"\n      }\n    },\n    {\n      \"column\": \"sex\",\n      \"properties\": {\n        \"dtype\": \"category\",\n        \"num_unique_values\": 2,\n        \"samples\": [\n          \"Female\",\n          \"Male\"\n        ],\n        \"semantic_type\": \"\",\n        \"description\": \"\"\n      }\n    },\n    {\n      \"column\": \"smoker\",\n      \"properties\": {\n        \"dtype\": \"category\",\n        \"num_unique_values\": 2,\n        \"samples\": [\n          \"No\",\n          \"Yes\"\n        ],\n        \"semantic_type\": \"\",\n        \"description\": \"\"\n      }\n    },\n    {\n      \"column\": \"day\",\n      \"properties\": {\n        \"dtype\": \"category\",\n        \"num_unique_values\": 3,\n        \"samples\": [\n          \"Fri\",\n          \"Sat\"\n        ],\n        \"semantic_type\": \"\",\n        \"description\": \"\"\n      }\n    },\n    {\n      \"column\": \"time\",\n      \"properties\": {\n        \"dtype\": \"category\",\n        \"num_unique_values\": 2,\n        \"samples\": [\n          \"Dinner\",\n          \"Lunch\"\n        ],\n        \"semantic_type\": \"\",\n        \"description\": \"\"\n      }\n    },\n    {\n      \"column\": \"size\",\n      \"properties\": {\n        \"dtype\": \"number\",\n        \"std\": 1,\n        \"min\": 1,\n        \"max\": 4,\n        \"num_unique_values\": 3,\n        \"samples\": [\n          1,\n          2\n        ],\n        \"semantic_type\": \"\",\n        \"description\": \"\"\n      }\n    }\n  ]\n}"
            }
          },
          "metadata": {},
          "execution_count": 3
        }
      ],
      "source": [
        "# Load the dataset\n",
        "data = sns.load_dataset(\"tips\")\n",
        "\n",
        "# Display a sample of the data\n",
        "data.sample(5)"
      ]
    },
    {
      "cell_type": "markdown",
      "metadata": {
        "id": "g8j9YTbcyG87"
      },
      "source": [
        "Each row of the above dataframe represents a table that was served by a worker at a restaurant. For example, in the first row, at a table the total bill was \\$19.77 and the tip that was left was $2.00, approximately 10% of the total bill."
      ]
    },
    {
      "cell_type": "markdown",
      "metadata": {
        "id": "V4aria87yG87"
      },
      "source": [
        "#### **Visualizing the Data**\n",
        "We'll visualize the relationship between total bill and tip using a scatter plot."
      ]
    },
    {
      "cell_type": "code",
      "execution_count": 4,
      "metadata": {
        "colab": {
          "base_uri": "https://localhost:8080/",
          "height": 418
        },
        "id": "oEXZLr0eyG88",
        "outputId": "cf9d847c-5f98-451b-ef16-a6907a9044ef"
      },
      "outputs": [
        {
          "output_type": "display_data",
          "data": {
            "text/plain": [
              "<Figure size 600x400 with 1 Axes>"
            ],
            "image/png": "[encoded data removed]"
          },
          "metadata": {}
        }
      ],
      "source": [
        "# Visualize the relationship between total bill and tip\n",
        "plt.figure(figsize=(6,4))\n",
        "ax = plt.gca()\n",
        "ax.set_facecolor('whitesmoke')\n",
        "\n",
        "plt.scatter(data['total_bill'], data['tip'])\n",
        "\n",
        "# Choose a random index\n",
        "random_index = np.random.choice(data.index)\n",
        "\n",
        "# Get the data for the chosen index\n",
        "specific_point = data.loc[random_index]\n",
        "\n",
        "# Plot the specific point\n",
        "plt.scatter(specific_point['total_bill'], specific_point['tip'], color='red', s=100, zorder=5)\n",
        "\n",
        "# Annotate the specific point\n",
        "plt.annotate(f'Bill: ${specific_point[\"total_bill\"]:.2f}\\nTip: ${specific_point[\"tip\"]:.2f}',\n",
        "             (specific_point['total_bill'], specific_point['tip']),\n",
        "             textcoords=\"offset points\",\n",
        "             xytext=(0,10),\n",
        "             ha='center',\n",
        "             color='red',\n",
        "             fontsize=12,\n",
        "             bbox=dict(boxstyle='round,pad=0.3', edgecolor='red', facecolor='white'))\n",
        "\n",
        "# Add titles and labels\n",
        "plt.title(\"Total Bill vs. Tip\")\n",
        "plt.xlabel(\"Total Bill\", fontsize=12)\n",
        "plt.ylabel(\"Tip\", fontsize=12)\n",
        "\n",
        "# Increase the size of the x and y ticks\n",
        "plt.xticks(fontsize=12)\n",
        "plt.yticks(fontsize=12)\n",
        "\n",
        "# Turn off the grid\n",
        "plt.grid(False)\n",
        "\n",
        "plt.savefig('scatter.png')\n",
        "plt.show()"
      ]
    },
    {
      "cell_type": "markdown",
      "metadata": {
        "id": "FETd7pJ-yG88"
      },
      "source": [
        "Each dot in the above plot represents a table served with the total bill amount on the bottom as x-axis, and the tip amount is on the y-axis.\n",
        "\n",
        "**Observation:** From the above plot, we can observe a clear positive correlation between the total bill and the tip amount."
      ]
    },
    {
      "cell_type": "markdown",
      "metadata": {
        "id": "iDx6DddZyG88"
      },
      "source": [
        "## 2. Simple Linear Regression\n",
        "Linear regression is like *drawing the best straight line through a bunch of dots on a graph*. Each dot represents a piece of information we know, and the line helps us make educated guesses about things we don’t know.\n",
        "\n",
        "Using the tips dataset, we can draw a straight line that best fits through the data points. This line is our “regression line”.\n",
        "\n",
        "Now, let's create a simple linear regression model to predict the tip based on the total bill.\n",
        "\n",
        "**Note:** It is a simple linear regression model where the model only considers a single feature, the total bill, to predict the tip amount and the relationship between the two variables is assumed to be linear.\n"
      ]
    },
    {
      "cell_type": "markdown",
      "source": [
        "#### **How to Build the Model?**\n",
        "To build a simple linear regression model, we can use various libraries such as Seaborn, sklearn, Plotly and so on. In our case, we will use *sklearn* library as it is a powerful open-source machine learning library.\n",
        "\n",
        "There are **three key steps** involved to build a model:\n",
        "\n",
        "1. Instantiate a linear model object\n",
        "\n",
        "2. Fit the model to training data\n",
        "\n",
        "3. Use the trained model to make predictions\n",
        "\n",
        "The goal is to train the model to try and predict the tip amount based on the single feature, total bill.\n",
        "\n",
        "First, we set aside the features we want to use to make predictions and save it in a variable called X. Then, we set aside what we want to predict and save it in a variable called y."
      ],
      "metadata": {
        "id": "mCCpQ8c_FJjx"
      }
    },
    {
      "cell_type": "code",
      "execution_count": 5,
      "metadata": {
        "id": "QytOvLP6yG88"
      },
      "outputs": [],
      "source": [
        "# Prepare the data\n",
        "X = data[['total_bill']]\n",
        "y = data['tip']"
      ]
    },
    {
      "cell_type": "markdown",
      "source": [
        "Next, we import the `LinearRegression` model from **sklearn** and instantiate the model object."
      ],
      "metadata": {
        "id": "7sx5CFfaGsKY"
      }
    },
    {
      "cell_type": "code",
      "source": [
        "# Create and fit a simple linear regression model\n",
        "model = LinearRegression(fit_intercept = False)\n"
      ],
      "metadata": {
        "id": "0K5l6PNwG3KA"
      },
      "execution_count": 7,
      "outputs": []
    },
    {
      "cell_type": "markdown",
      "source": [
        "When creating the model object in this particular example we set fit_intercept = False, because in real life, the tip associated with a \\$0 total bill should probably be $0."
      ],
      "metadata": {
        "id": "D3yalUV-KT3f"
      }
    },
    {
      "cell_type": "markdown",
      "source": [
        "Next, we fit the model. This process trains the model by telling it the features we want to use to make predictions."
      ],
      "metadata": {
        "id": "aSI2zGszHOMp"
      }
    },
    {
      "cell_type": "code",
      "source": [
        "model.fit(X, y)"
      ],
      "metadata": {
        "colab": {
          "base_uri": "https://localhost:8080/",
          "height": 80
        },
        "id": "vGrXkTbAHO7S",
        "outputId": "30202a81-b89d-4091-e9e5-4dcf385ce611"
      },
      "execution_count": 8,
      "outputs": [
        {
          "output_type": "execute_result",
          "data": {
            "text/plain": [
              "LinearRegression(fit_intercept=False)"
            ],
            "text/html": [
              "<style>#sk-container-id-2 {\n",
              "  /* Definition of color scheme common for light and dark mode */\n",
              "  --sklearn-color-text: #000;\n",
              "  --sklearn-color-text-muted: #666;\n",
              "  --sklearn-color-line: gray;\n",
              "  /* Definition of color scheme for unfitted estimators */\n",
              "  --sklearn-color-unfitted-level-0: #fff5e6;\n",
              "  --sklearn-color-unfitted-level-1: #f6e4d2;\n",
              "  --sklearn-color-unfitted-level-2: #ffe0b3;\n",
              "  --sklearn-color-unfitted-level-3: chocolate;\n",
              "  /* Definition of color scheme for fitted estimators */\n",
              "  --sklearn-color-fitted-level-0: #f0f8ff;\n",
              "  --sklearn-color-fitted-level-1: #d4ebff;\n",
              "  --sklearn-color-fitted-level-2: #b3dbfd;\n",
              "  --sklearn-color-fitted-level-3: cornflowerblue;\n",
              "\n",
              "  /* Specific color for light theme */\n",
              "  --sklearn-color-text-on-default-background: var(--sg-text-color, var(--theme-code-foreground, var(--jp-content-font-color1, black)));\n",
              "  --sklearn-color-background: var(--sg-background-color, var(--theme-background, var(--jp-layout-color0, white)));\n",
              "  --sklearn-color-border-box: var(--sg-text-color, var(--theme-code-foreground, var(--jp-content-font-color1, black)));\n",
              "  --sklearn-color-icon: #696969;\n",
              "\n",
              "  @media (prefers-color-scheme: dark) {\n",
              "    /* Redefinition of color scheme for dark theme */\n",
              "    --sklearn-color-text-on-default-background: var(--sg-text-color, var(--theme-code-foreground, var(--jp-content-font-color1, white)));\n",
              "    --sklearn-color-background: var(--sg-background-color, var(--theme-background, var(--jp-layout-color0, #111)));\n",
              "    --sklearn-color-border-box: var(--sg-text-color, var(--theme-code-foreground, var(--jp-content-font-color1, white)));\n",
              "    --sklearn-color-icon: #878787;\n",
              "  }\n",
              "}\n",
              "\n",
              "#sk-container-id-2 {\n",
              "  color: var(--sklearn-color-text);\n",
              "}\n",
              "\n",
              "#sk-container-id-2 pre {\n",
              "  padding: 0;\n",
              "}\n",
              "\n",
              "#sk-container-id-2 input.sk-hidden--visually {\n",
              "  border: 0;\n",
              "  clip: rect(1px 1px 1px 1px);\n",
              "  clip: rect(1px, 1px, 1px, 1px);\n",
              "  height: 1px;\n",
              "  margin: -1px;\n",
              "  overflow: hidden;\n",
              "  padding: 0;\n",
              "  position: absolute;\n",
              "  width: 1px;\n",
              "}\n",
              "\n",
              "#sk-container-id-2 div.sk-dashed-wrapped {\n",
              "  border: 1px dashed var(--sklearn-color-line);\n",
              "  margin: 0 0.4em 0.5em 0.4em;\n",
              "  box-sizing: border-box;\n",
              "  padding-bottom: 0.4em;\n",
              "  background-color: var(--sklearn-color-background);\n",
              "}\n",
              "\n",
              "#sk-container-id-2 div.sk-container {\n",
              "  /* jupyter's `normalize.less` sets `[hidden] { display: none; }`\n",
              "     but bootstrap.min.css set `[hidden] { display: none !important; }`\n",
              "     so we also need the `!important` here to be able to override the\n",
              "     default hidden behavior on the sphinx rendered scikit-learn.org.\n",
              "     See: https://github.com/scikit-learn/scikit-learn/issues/21755 */\n",
              "  display: inline-block !important;\n",
              "  position: relative;\n",
              "}\n",
              "\n",
              "#sk-container-id-2 div.sk-text-repr-fallback {\n",
              "  display: none;\n",
              "}\n",
              "\n",
              "div.sk-parallel-item,\n",
              "div.sk-serial,\n",
              "div.sk-item {\n",
              "  /* draw centered vertical line to link estimators */\n",
              "  background-image: linear-gradient(var(--sklearn-color-text-on-default-background), var(--sklearn-color-text-on-default-background));\n",
              "  background-size: 2px 100%;\n",
              "  background-repeat: no-repeat;\n",
              "  background-position: center center;\n",
              "}\n",
              "\n",
              "/* Parallel-specific style estimator block */\n",
              "\n",
              "#sk-container-id-2 div.sk-parallel-item::after {\n",
              "  content: \"\";\n",
              "  width: 100%;\n",
              "  border-bottom: 2px solid var(--sklearn-color-text-on-default-background);\n",
              "  flex-grow: 1;\n",
              "}\n",
              "\n",
              "#sk-container-id-2 div.sk-parallel {\n",
              "  display: flex;\n",
              "  align-items: stretch;\n",
              "  justify-content: center;\n",
              "  background-color: var(--sklearn-color-background);\n",
              "  position: relative;\n",
              "}\n",
              "\n",
              "#sk-container-id-2 div.sk-parallel-item {\n",
              "  display: flex;\n",
              "  flex-direction: column;\n",
              "}\n",
              "\n",
              "#sk-container-id-2 div.sk-parallel-item:first-child::after {\n",
              "  align-self: flex-end;\n",
              "  width: 50%;\n",
              "}\n",
              "\n",
              "#sk-container-id-2 div.sk-parallel-item:last-child::after {\n",
              "  align-self: flex-start;\n",
              "  width: 50%;\n",
              "}\n",
              "\n",
              "#sk-container-id-2 div.sk-parallel-item:only-child::after {\n",
              "  width: 0;\n",
              "}\n",
              "\n",
              "/* Serial-specific style estimator block */\n",
              "\n",
              "#sk-container-id-2 div.sk-serial {\n",
              "  display: flex;\n",
              "  flex-direction: column;\n",
              "  align-items: center;\n",
              "  background-color: var(--sklearn-color-background);\n",
              "  padding-right: 1em;\n",
              "  padding-left: 1em;\n",
              "}\n",
              "\n",
              "\n",
              "/* Toggleable style: style used for estimator/Pipeline/ColumnTransformer box that is\n",
              "clickable and can be expanded/collapsed.\n",
              "- Pipeline and ColumnTransformer use this feature and define the default style\n",
              "- Estimators will overwrite some part of the style using the `sk-estimator` class\n",
              "*/\n",
              "\n",
              "/* Pipeline and ColumnTransformer style (default) */\n",
              "\n",
              "#sk-container-id-2 div.sk-toggleable {\n",
              "  /* Default theme specific background. It is overwritten whether we have a\n",
              "  specific estimator or a Pipeline/ColumnTransformer */\n",
              "  background-color: var(--sklearn-color-background);\n",
              "}\n",
              "\n",
              "/* Toggleable label */\n",
              "#sk-container-id-2 label.sk-toggleable__label {\n",
              "  cursor: pointer;\n",
              "  display: flex;\n",
              "  width: 100%;\n",
              "  margin-bottom: 0;\n",
              "  padding: 0.5em;\n",
              "  box-sizing: border-box;\n",
              "  text-align: center;\n",
              "  align-items: start;\n",
              "  justify-content: space-between;\n",
              "  gap: 0.5em;\n",
              "}\n",
              "\n",
              "#sk-container-id-2 label.sk-toggleable__label .caption {\n",
              "  font-size: 0.6rem;\n",
              "  font-weight: lighter;\n",
              "  color: var(--sklearn-color-text-muted);\n",
              "}\n",
              "\n",
              "#sk-container-id-2 label.sk-toggleable__label-arrow:before {\n",
              "  /* Arrow on the left of the label */\n",
              "  content: \"▸\";\n",
              "  float: left;\n",
              "  margin-right: 0.25em;\n",
              "  color: var(--sklearn-color-icon);\n",
              "}\n",
              "\n",
              "#sk-container-id-2 label.sk-toggleable__label-arrow:hover:before {\n",
              "  color: var(--sklearn-color-text);\n",
              "}\n",
              "\n",
              "/* Toggleable content - dropdown */\n",
              "\n",
              "#sk-container-id-2 div.sk-toggleable__content {\n",
              "  max-height: 0;\n",
              "  max-width: 0;\n",
              "  overflow: hidden;\n",
              "  text-align: left;\n",
              "  /* unfitted */\n",
              "  background-color: var(--sklearn-color-unfitted-level-0);\n",
              "}\n",
              "\n",
              "#sk-container-id-2 div.sk-toggleable__content.fitted {\n",
              "  /* fitted */\n",
              "  background-color: var(--sklearn-color-fitted-level-0);\n",
              "}\n",
              "\n",
              "#sk-container-id-2 div.sk-toggleable__content pre {\n",
              "  margin: 0.2em;\n",
              "  border-radius: 0.25em;\n",
              "  color: var(--sklearn-color-text);\n",
              "  /* unfitted */\n",
              "  background-color: var(--sklearn-color-unfitted-level-0);\n",
              "}\n",
              "\n",
              "#sk-container-id-2 div.sk-toggleable__content.fitted pre {\n",
              "  /* unfitted */\n",
              "  background-color: var(--sklearn-color-fitted-level-0);\n",
              "}\n",
              "\n",
              "#sk-container-id-2 input.sk-toggleable__control:checked~div.sk-toggleable__content {\n",
              "  /* Expand drop-down */\n",
              "  max-height: 200px;\n",
              "  max-width: 100%;\n",
              "  overflow: auto;\n",
              "}\n",
              "\n",
              "#sk-container-id-2 input.sk-toggleable__control:checked~label.sk-toggleable__label-arrow:before {\n",
              "  content: \"▾\";\n",
              "}\n",
              "\n",
              "/* Pipeline/ColumnTransformer-specific style */\n",
              "\n",
              "#sk-container-id-2 div.sk-label input.sk-toggleable__control:checked~label.sk-toggleable__label {\n",
              "  color: var(--sklearn-color-text);\n",
              "  background-color: var(--sklearn-color-unfitted-level-2);\n",
              "}\n",
              "\n",
              "#sk-container-id-2 div.sk-label.fitted input.sk-toggleable__control:checked~label.sk-toggleable__label {\n",
              "  background-color: var(--sklearn-color-fitted-level-2);\n",
              "}\n",
              "\n",
              "/* Estimator-specific style */\n",
              "\n",
              "/* Colorize estimator box */\n",
              "#sk-container-id-2 div.sk-estimator input.sk-toggleable__control:checked~label.sk-toggleable__label {\n",
              "  /* unfitted */\n",
              "  background-color: var(--sklearn-color-unfitted-level-2);\n",
              "}\n",
              "\n",
              "#sk-container-id-2 div.sk-estimator.fitted input.sk-toggleable__control:checked~label.sk-toggleable__label {\n",
              "  /* fitted */\n",
              "  background-color: var(--sklearn-color-fitted-level-2);\n",
              "}\n",
              "\n",
              "#sk-container-id-2 div.sk-label label.sk-toggleable__label,\n",
              "#sk-container-id-2 div.sk-label label {\n",
              "  /* The background is the default theme color */\n",
              "  color: var(--sklearn-color-text-on-default-background);\n",
              "}\n",
              "\n",
              "/* On hover, darken the color of the background */\n",
              "#sk-container-id-2 div.sk-label:hover label.sk-toggleable__label {\n",
              "  color: var(--sklearn-color-text);\n",
              "  background-color: var(--sklearn-color-unfitted-level-2);\n",
              "}\n",
              "\n",
              "/* Label box, darken color on hover, fitted */\n",
              "#sk-container-id-2 div.sk-label.fitted:hover label.sk-toggleable__label.fitted {\n",
              "  color: var(--sklearn-color-text);\n",
              "  background-color: var(--sklearn-color-fitted-level-2);\n",
              "}\n",
              "\n",
              "/* Estimator label */\n",
              "\n",
              "#sk-container-id-2 div.sk-label label {\n",
              "  font-family: monospace;\n",
              "  font-weight: bold;\n",
              "  display: inline-block;\n",
              "  line-height: 1.2em;\n",
              "}\n",
              "\n",
              "#sk-container-id-2 div.sk-label-container {\n",
              "  text-align: center;\n",
              "}\n",
              "\n",
              "/* Estimator-specific */\n",
              "#sk-container-id-2 div.sk-estimator {\n",
              "  font-family: monospace;\n",
              "  border: 1px dotted var(--sklearn-color-border-box);\n",
              "  border-radius: 0.25em;\n",
              "  box-sizing: border-box;\n",
              "  margin-bottom: 0.5em;\n",
              "  /* unfitted */\n",
              "  background-color: var(--sklearn-color-unfitted-level-0);\n",
              "}\n",
              "\n",
              "#sk-container-id-2 div.sk-estimator.fitted {\n",
              "  /* fitted */\n",
              "  background-color: var(--sklearn-color-fitted-level-0);\n",
              "}\n",
              "\n",
              "/* on hover */\n",
              "#sk-container-id-2 div.sk-estimator:hover {\n",
              "  /* unfitted */\n",
              "  background-color: var(--sklearn-color-unfitted-level-2);\n",
              "}\n",
              "\n",
              "#sk-container-id-2 div.sk-estimator.fitted:hover {\n",
              "  /* fitted */\n",
              "  background-color: var(--sklearn-color-fitted-level-2);\n",
              "}\n",
              "\n",
              "/* Specification for estimator info (e.g. \"i\" and \"?\") */\n",
              "\n",
              "/* Common style for \"i\" and \"?\" */\n",
              "\n",
              ".sk-estimator-doc-link,\n",
              "a:link.sk-estimator-doc-link,\n",
              "a:visited.sk-estimator-doc-link {\n",
              "  float: right;\n",
              "  font-size: smaller;\n",
              "  line-height: 1em;\n",
              "  font-family: monospace;\n",
              "  background-color: var(--sklearn-color-background);\n",
              "  border-radius: 1em;\n",
              "  height: 1em;\n",
              "  width: 1em;\n",
              "  text-decoration: none !important;\n",
              "  margin-left: 0.5em;\n",
              "  text-align: center;\n",
              "  /* unfitted */\n",
              "  border: var(--sklearn-color-unfitted-level-1) 1pt solid;\n",
              "  color: var(--sklearn-color-unfitted-level-1);\n",
              "}\n",
              "\n",
              ".sk-estimator-doc-link.fitted,\n",
              "a:link.sk-estimator-doc-link.fitted,\n",
              "a:visited.sk-estimator-doc-link.fitted {\n",
              "  /* fitted */\n",
              "  border: var(--sklearn-color-fitted-level-1) 1pt solid;\n",
              "  color: var(--sklearn-color-fitted-level-1);\n",
              "}\n",
              "\n",
              "/* On hover */\n",
              "div.sk-estimator:hover .sk-estimator-doc-link:hover,\n",
              ".sk-estimator-doc-link:hover,\n",
              "div.sk-label-container:hover .sk-estimator-doc-link:hover,\n",
              ".sk-estimator-doc-link:hover {\n",
              "  /* unfitted */\n",
              "  background-color: var(--sklearn-color-unfitted-level-3);\n",
              "  color: var(--sklearn-color-background);\n",
              "  text-decoration: none;\n",
              "}\n",
              "\n",
              "div.sk-estimator.fitted:hover .sk-estimator-doc-link.fitted:hover,\n",
              ".sk-estimator-doc-link.fitted:hover,\n",
              "div.sk-label-container:hover .sk-estimator-doc-link.fitted:hover,\n",
              ".sk-estimator-doc-link.fitted:hover {\n",
              "  /* fitted */\n",
              "  background-color: var(--sklearn-color-fitted-level-3);\n",
              "  color: var(--sklearn-color-background);\n",
              "  text-decoration: none;\n",
              "}\n",
              "\n",
              "/* Span, style for the box shown on hovering the info icon */\n",
              ".sk-estimator-doc-link span {\n",
              "  display: none;\n",
              "  z-index: 9999;\n",
              "  position: relative;\n",
              "  font-weight: normal;\n",
              "  right: .2ex;\n",
              "  padding: .5ex;\n",
              "  margin: .5ex;\n",
              "  width: min-content;\n",
              "  min-width: 20ex;\n",
              "  max-width: 50ex;\n",
              "  color: var(--sklearn-color-text);\n",
              "  box-shadow: 2pt 2pt 4pt #999;\n",
              "  /* unfitted */\n",
              "  background: var(--sklearn-color-unfitted-level-0);\n",
              "  border: .5pt solid var(--sklearn-color-unfitted-level-3);\n",
              "}\n",
              "\n",
              ".sk-estimator-doc-link.fitted span {\n",
              "  /* fitted */\n",
              "  background: var(--sklearn-color-fitted-level-0);\n",
              "  border: var(--sklearn-color-fitted-level-3);\n",
              "}\n",
              "\n",
              ".sk-estimator-doc-link:hover span {\n",
              "  display: block;\n",
              "}\n",
              "\n",
              "/* \"?\"-specific style due to the `<a>` HTML tag */\n",
              "\n",
              "#sk-container-id-2 a.estimator_doc_link {\n",
              "  float: right;\n",
              "  font-size: 1rem;\n",
              "  line-height: 1em;\n",
              "  font-family: monospace;\n",
              "  background-color: var(--sklearn-color-background);\n",
              "  border-radius: 1rem;\n",
              "  height: 1rem;\n",
              "  width: 1rem;\n",
              "  text-decoration: none;\n",
              "  /* unfitted */\n",
              "  color: var(--sklearn-color-unfitted-level-1);\n",
              "  border: var(--sklearn-color-unfitted-level-1) 1pt solid;\n",
              "}\n",
              "\n",
              "#sk-container-id-2 a.estimator_doc_link.fitted {\n",
              "  /* fitted */\n",
              "  border: var(--sklearn-color-fitted-level-1) 1pt solid;\n",
              "  color: var(--sklearn-color-fitted-level-1);\n",
              "}\n",
              "\n",
              "/* On hover */\n",
              "#sk-container-id-2 a.estimator_doc_link:hover {\n",
              "  /* unfitted */\n",
              "  background-color: var(--sklearn-color-unfitted-level-3);\n",
              "  color: var(--sklearn-color-background);\n",
              "  text-decoration: none;\n",
              "}\n",
              "\n",
              "#sk-container-id-2 a.estimator_doc_link.fitted:hover {\n",
              "  /* fitted */\n",
              "  background-color: var(--sklearn-color-fitted-level-3);\n",
              "}\n",
              "</style><div id=\"sk-container-id-2\" class=\"sk-top-container\"><div class=\"sk-text-repr-fallback\"><pre>LinearRegression(fit_intercept=False)</pre><b>In a Jupyter environment, please rerun this cell to show the HTML representation or trust the notebook. <br />On GitHub, the HTML representation is unable to render, please try loading this page with nbviewer.org.</b></div><div class=\"sk-container\" hidden><div class=\"sk-item\"><div class=\"sk-estimator fitted sk-toggleable\"><input class=\"sk-toggleable__control sk-hidden--visually\" id=\"sk-estimator-id-2\" type=\"checkbox\" checked><label for=\"sk-estimator-id-2\" class=\"sk-toggleable__label fitted sk-toggleable__label-arrow\"><div><div>LinearRegression</div></div><div><a class=\"sk-estimator-doc-link fitted\" rel=\"noreferrer\" target=\"_blank\" href=\"https://scikit-learn.org/1.6/modules/generated/sklearn.linear_model.LinearRegression.html\">?<span>Documentation for LinearRegression</span></a><span class=\"sk-estimator-doc-link fitted\">i<span>Fitted</span></span></div></label><div class=\"sk-toggleable__content fitted\"><pre>LinearRegression(fit_intercept=False)</pre></div> </div></div></div></div>"
            ]
          },
          "metadata": {},
          "execution_count": 8
        }
      ]
    },
    {
      "cell_type": "markdown",
      "source": [
        "Once the model is trained, we can determine what the model predicts."
      ],
      "metadata": {
        "id": "xMKrcrmiHVDg"
      }
    },
    {
      "cell_type": "code",
      "source": [
        "# Calculate predictions\n",
        "data['prediction'] = model.predict(X)\n",
        "print(data.head())"
      ],
      "metadata": {
        "colab": {
          "base_uri": "https://localhost:8080/"
        },
        "id": "APtQwSQvHV4Q",
        "outputId": "df7a5769-82da-4c65-e3fd-9ca5b78c9371"
      },
      "execution_count": 10,
      "outputs": [
        {
          "output_type": "stream",
          "name": "stdout",
          "text": [
            "   total_bill   tip     sex smoker  day    time  size  prediction\n",
            "0       16.99  1.01  Female     No  Sun  Dinner     2    2.442005\n",
            "1       10.34  1.66    Male     No  Sun  Dinner     3    1.486188\n",
            "2       21.01  3.50    Male     No  Sun  Dinner     3    3.019807\n",
            "3       23.68  3.31    Male     No  Sun  Dinner     2    3.403571\n",
            "4       24.59  3.61  Female     No  Sun  Dinner     4    3.534367\n"
          ]
        }
      ]
    },
    {
      "cell_type": "markdown",
      "source": [
        "The model does a good job at predicting tips but on some tables, it is way off. For example, in the first row, the actual tip was \\$1.01 but the model predicted $2.44."
      ],
      "metadata": {
        "id": "x6bsIEWEHktQ"
      }
    },
    {
      "cell_type": "markdown",
      "source": [
        "#### **Visualizing the Regression Line**"
      ],
      "metadata": {
        "id": "TgQhSTAhI4eV"
      }
    },
    {
      "cell_type": "code",
      "execution_count": null,
      "metadata": {
        "id": "ls-CikRayG89",
        "outputId": "b9694092-d6d1-4398-a25b-3c2d60c359e7"
      },
      "outputs": [
        {
          "name": "stdout",
          "output_type": "stream",
          "text": [
            "For a bill of $40, the predicted tip is $5.75\n"
          ]
        }
      ],
      "source": [
        "# Make a prediction for a total bill of $40\n",
        "total_bill_value = 40\n",
        "predicted_tip = model.predict(pd.DataFrame([[total_bill_value]], columns=['total_bill']))[0]\n",
        "print(f\"For a bill of ${total_bill_value}, the predicted tip is ${predicted_tip:.2f}\")"
      ]
    },
    {
      "cell_type": "code",
      "execution_count": null,
      "metadata": {
        "id": "I-Aw0X3ByG89",
        "outputId": "1f3aa8b1-bf9b-4acf-a1c1-15de96942834"
      },
      "outputs": [
        {
          "data": {
            "image/png": "[encoded data removed]",
            "text/plain": [
              "<Figure size 600x400 with 1 Axes>"
            ]
          },
          "metadata": {},
          "output_type": "display_data"
        }
      ],
      "source": [
        "# Visualize the regression line\n",
        "plt.figure(figsize=(6,4))\n",
        "ax = plt.gca()\n",
        "ax.set_facecolor('whitesmoke')\n",
        "\n",
        "# Create the scatter plot with a linear regression line\n",
        "sns.regplot(x='total_bill', y='tip', data=data)\n",
        "\n",
        "# Plot the specific point on the line\n",
        "plt.scatter(total_bill_value, predicted_tip, color='white', s=100, edgecolor='black', zorder=5)\n",
        "\n",
        "# Annotate the point\n",
        "plt.annotate(f'Bill: ${total_bill_value:.2f}\\nTip: ${predicted_tip:.2f}',\n",
        "             (total_bill_value, predicted_tip),\n",
        "             textcoords=\"offset points\",\n",
        "             xytext=(0,10),\n",
        "             ha='center',\n",
        "             color='red',\n",
        "             fontsize=12,\n",
        "             bbox=dict(boxstyle='round,pad=0.3', edgecolor='red', facecolor='white'))\n",
        "\n",
        "# Customize and show the plot\n",
        "plt.title(\"Total Bill vs. Tip with Linear Regression Line\")\n",
        "plt.xlabel(\"Total Bill\", fontsize=12)\n",
        "plt.ylabel(\"Tip\", fontsize=12)\n",
        "\n",
        "# Increase the size of the x and y ticks\n",
        "plt.xticks(fontsize=12)\n",
        "plt.yticks(fontsize=12)\n",
        "\n",
        "# Turn off the grid\n",
        "plt.grid(False)\n",
        "\n",
        "plt.savefig('linreg.png')\n",
        "plt.show()"
      ]
    },
    {
      "cell_type": "markdown",
      "source": [
        "#### **How Does it Work?**\n",
        "Linear regression tries to find the best straight line that fits through all these points.\n",
        "\n",
        "The equation for this line can be expressed as **𝑌 = m𝑋 + b**, where 𝑋 is the independent variable and 𝑌 is the dependent variable. Additionally, the slope of the line is defined as m, and the intercept as b.\n",
        "\n",
        "In our case, the equation will look something like this:\n",
        "\n",
        "**Tip = Slope (m) × Total Bill + Intercept (b)**\n",
        "\n",
        "There are two important parts here:\n",
        "\n",
        "1. **Slope (m)**: How much the tip increases for each dollar increase in the total bill\n",
        "\n",
        "2. **Intercept (b)**: The starting point of the line (i.e., the tip amount for a $0 total bill)\n",
        "\n",
        "Now that our model is trained, we can use **model.coef_** to get the slope of the line which is 0.1437 (14.37%)."
      ],
      "metadata": {
        "id": "58Y5pzZLJW0P"
      }
    },
    {
      "cell_type": "code",
      "execution_count": null,
      "metadata": {
        "id": "7R4S3ei5yG89",
        "outputId": "08587555-fb9a-45eb-88bb-f8e006044080"
      },
      "outputs": [
        {
          "name": "stdout",
          "output_type": "stream",
          "text": [
            "Slope: 0.1437\n"
          ]
        }
      ],
      "source": [
        "print(f\"Slope: {model.coef_[0]:.4f}\")"
      ]
    },
    {
      "cell_type": "markdown",
      "source": [
        "Similarly, using **model.intercept_**, we can find the intercept as 0.0."
      ],
      "metadata": {
        "id": "gTEjJtS2J6xb"
      }
    },
    {
      "cell_type": "code",
      "execution_count": null,
      "metadata": {
        "id": "SaMr858IyG89",
        "outputId": "f5f8eb19-ded0-4b3c-b140-5a692f2b62ec"
      },
      "outputs": [
        {
          "name": "stdout",
          "output_type": "stream",
          "text": [
            "Intercept: 0.0000\n"
          ]
        }
      ],
      "source": [
        "print(f\"Intercept: {model.intercept_:.4f}\")"
      ]
    },
    {
      "cell_type": "markdown",
      "metadata": {
        "id": "XvuzpDQmyG89"
      },
      "source": [
        "After updating the values, our equation now looks like this:\n",
        "\n",
        "**Predicted Tip = 0.1437 × Total Bill**\n",
        "\n",
        "**This means:**\n",
        "- The slope of our regression line is approximately 0.1437, which means for every dollar increase in the total bill, the tip tends to increase by about 14.37 cents.\n",
        "- We set the intercept to 0, assuming a total bill of 0 would result in a $0 tip.\n",
        "\n",
        "Now, if a new customer comes in and their total bill is \\$25, we can guess their tip: 0.1437 × \\$25 = $3.59"
      ]
    },
    {
      "cell_type": "markdown",
      "source": [
        "Linear regression works best when there’s a fairly straight-line relationship between two things. It’s a simple but powerful tool for understanding and predicting."
      ],
      "metadata": {
        "id": "Kp99FAg2LbGM"
      }
    },
    {
      "cell_type": "markdown",
      "metadata": {
        "id": "BX-ZciT2yG8-"
      },
      "source": [
        "## 3. Understanding Loss Functions and Model Optimization\n",
        "\n",
        "### **Loss Functions**\n",
        "Loss functions let us *numerically know how far off the model’s predictions are from the actual values*. A model with the lowest loss is considered a better one at making predictions."
      ]
    },
    {
      "cell_type": "markdown",
      "metadata": {
        "id": "xP90V1lzyG8-"
      },
      "source": [
        "#### **Types of Loss Functions**:\n",
        "Two of the most common loss functions are:\n",
        "\n",
        "1.\t**Squared Error (L2 Loss):** This is simply squaring the difference between the model’s predicted and actual value. *Squared error: (actual – predicted)²*\n",
        "\n",
        "    For example, if the actual tip is $5 and the model predicted $4, then the squared error will be (5 - 4)² = 1² = 1.\n",
        "\n",
        "    Suppose if the predicted tip was $3, then squared error would be (5 - 3)² = 2² = 4.\n",
        "\n",
        "    Note how being off by 2 dollars gives a much higher error than being off by 1 dollar.\n",
        "\n",
        "    **Mean Squared Error (MSE)**: In practice, instead of calculating squared error for just one observation, we often use the average of all the squared errors across the entire dataset. This is called the **Mean Squared Error (MSE).**\n",
        "\n",
        "2.\t**Absolute Error (L1 Loss):** This is the absolute value of the difference between the model’s predicted and actual value.\n",
        "   *Absolute error: |actual – predicted|*\n",
        "\n",
        "   For example, if the actual tip is \\$5 and the model predicted \\$4, then the absolute error will be |5 - 4| = 1. Suppose if the predicted tip was $3, then absolute error would be |5 - 3| = 2.\n",
        "   \n",
        "   **Mean Absolute Error (MAE):** It is the average sum of the absolute difference between the predicted and actual value calculated across the entire dataset. It is the simplest and computationally inexpensive method to calculate loss.\n",
        "\n",
        "\n",
        "Both MSE and MAE give us a single number that tells us how good our model is overall. A *lower MSE/MAE means our model is making better predictions on average*."
      ]
    },
    {
      "cell_type": "markdown",
      "source": [
        "#### **Why Different Loss Functions?**\n",
        "\n",
        "Different loss functions behave differently with outliers. Squared error (L2) is more sensitive to outliers because it squares the differences. Absolute error (L1) is less affected by outliers.\n",
        "\n",
        "For example, if someone leaves an unusually high tip of \\$50 on a $20 bill:\n",
        "\n",
        "- L2 loss would result in a very high error, potentially skewing our model.\n",
        "- L1 loss would still show it’s an error, but wouldn’t exaggerate its importance as much.\n",
        "\n",
        "Both loss functions can be better under a given circumstances that works best but in general, the difference between the two is usually not that big."
      ],
      "metadata": {
        "id": "yekdoP8fe-9v"
      }
    },
    {
      "cell_type": "markdown",
      "metadata": {
        "id": "TI4Hmd4FyG8-"
      },
      "source": [
        "#### **How to Calculate Loss?**\n",
        "\n",
        "Suppose we want to calculate Mean Squared Error (MSE) for our tips dataset, basic intuition is that we need to first calculate L2 losses using the tip and the model’s prediction:"
      ]
    },
    {
      "cell_type": "code",
      "execution_count": null,
      "metadata": {
        "scrolled": true,
        "id": "_OcfeHQLyG8-",
        "outputId": "68675158-7b50-4981-894a-ef25086ecf0e"
      },
      "outputs": [
        {
          "name": "stdout",
          "output_type": "stream",
          "text": [
            "     total_bill   tip  prediction   l2_loss\n",
            "228       13.28  2.72    1.908760  0.658111\n",
            "103       22.42  3.48    3.222469  0.066322\n",
            "45        18.29  3.00    2.628856  0.137748\n",
            "181       23.33  5.65    3.353265  5.274991\n",
            "177       14.48  2.00    2.081238  0.006600\n"
          ]
        }
      ],
      "source": [
        "# Calculate predictions\n",
        "data[\"prediction\"] = model.predict(X)\n",
        "\n",
        "# Calculate L2 Loss (Squared Error)\n",
        "data[\"l2_loss\"] = (data[\"prediction\"] - data[\"tip\"])**2\n",
        "\n",
        "print(data[['total_bill', 'tip', 'prediction', 'l2_loss']].sample(5))"
      ]
    },
    {
      "cell_type": "markdown",
      "source": [
        "From the above table, we can see that when the model’s prediction is close to the actual tip, the L2 loss is small and when the prediction is way off, the L2 loss is big.\n",
        "\n",
        "We can calculate MSE using NumPy or pandas for the entire dataset:"
      ],
      "metadata": {
        "id": "Tkj3ixV9fmmd"
      }
    },
    {
      "cell_type": "code",
      "execution_count": null,
      "metadata": {
        "id": "qtuy2EbRyG8-",
        "outputId": "1b5b1848-a747-420b-a999-3202f127361e"
      },
      "outputs": [
        {
          "data": {
            "text/plain": [
              "1.1781161154513171"
            ]
          },
          "execution_count": 256,
          "metadata": {},
          "output_type": "execute_result"
        }
      ],
      "source": [
        "# Calculate Mean Squared Error (MSE) using NumPy or pandas\n",
        "np.mean(data[\"l2_loss\"])"
      ]
    },
    {
      "cell_type": "code",
      "execution_count": null,
      "metadata": {
        "id": "tvNICR-SyG8-",
        "outputId": "48fa2304-2615-40a1-959d-a214119e0f84"
      },
      "outputs": [
        {
          "data": {
            "text/plain": [
              "1.1781161154513171"
            ]
          },
          "execution_count": 257,
          "metadata": {},
          "output_type": "execute_result"
        }
      ],
      "source": [
        "data[\"l2_loss\"].mean()"
      ]
    },
    {
      "cell_type": "markdown",
      "source": [
        "Or we can use sklearn library to calculate MSE directly:"
      ],
      "metadata": {
        "id": "8HqWS0Djf0Av"
      }
    },
    {
      "cell_type": "code",
      "execution_count": null,
      "metadata": {
        "id": "Vbcnyq0gyG8_",
        "outputId": "3b5c7ee2-ee3e-447d-8184-bb1532939517"
      },
      "outputs": [
        {
          "data": {
            "text/plain": [
              "1.1781161154513171"
            ]
          },
          "execution_count": 258,
          "metadata": {},
          "output_type": "execute_result"
        }
      ],
      "source": [
        "# Alternatively, use sklearn's mean_squared_error function\n",
        "from sklearn.metrics import mean_squared_error\n",
        "mean_squared_error(data['tip'], model.predict(data[['total_bill']]))"
      ]
    },
    {
      "cell_type": "markdown",
      "metadata": {
        "id": "QSaPve4IyG8_"
      },
      "source": [
        "All three different methods will give us the exact same MSE of 1.178."
      ]
    },
    {
      "cell_type": "markdown",
      "metadata": {
        "id": "EeXmox76yG8_"
      },
      "source": [
        "### **Model Optimization**\n",
        "Now that we know how to measure our model’s accuracy, how do we improve it? This is where model optimization comes in.\n",
        "\n",
        "*Model optimization is the process of finding the best possible line that minimizes our chosen loss function (for example: MSE)*. It’s like fine-tuning our model to make the most accurate predictions by adjusting the slope and intercept of our line."
      ]
    },
    {
      "cell_type": "markdown",
      "metadata": {
        "id": "rtre1JpgyG8_"
      },
      "source": [
        "#### **How Does it Work?**\n",
        "\n",
        "Remember, our equation of the line looks like this:\n",
        "\n",
        "**Tip = Slope (m) × Total Bill**\n",
        "\n",
        "The idea is to try different values for slope with the goal to find the point where our loss is the lowest.\n",
        "\n",
        "This process is usually done automatically using algorithms, but understanding it helps us understand what’s happening “under the hood”.\n",
        "\n",
        "Let’s create a function to explore how different slopes affect our MSE."
      ]
    },
    {
      "cell_type": "code",
      "execution_count": null,
      "metadata": {
        "id": "T2C_IwS1yG8_"
      },
      "outputs": [],
      "source": [
        "def mse(slope):\n",
        "    return mean_squared_error(data['total_bill'] * slope, data['tip'])"
      ]
    },
    {
      "cell_type": "markdown",
      "source": [
        "And then calculate mse from a list of 100 different values of slopes between 0.1 and 0.2."
      ],
      "metadata": {
        "id": "bPSYS3YFgXy2"
      }
    },
    {
      "cell_type": "code",
      "execution_count": null,
      "metadata": {
        "id": "hO0sna-zyG8_"
      },
      "outputs": [],
      "source": [
        "# Compute MSE for various slopes\n",
        "slopes = np.linspace(0.1, 0.2, 100)\n",
        "mses = [mse(slope) for slope in slopes]"
      ]
    },
    {
      "cell_type": "code",
      "execution_count": null,
      "metadata": {
        "id": "pEN0FOO2yG8_",
        "outputId": "64f1cdc4-db1d-4c87-acf1-b79728c09c95"
      },
      "outputs": [
        {
          "name": "stdout",
          "output_type": "stream",
          "text": [
            "Minimum MSE: 1.1781577643348538\n",
            "Best slope: 0.14343434343434344\n"
          ]
        }
      ],
      "source": [
        "# Find the best slope\n",
        "best_slope = slopes[np.argmin(mses)]\n",
        "min_mse = np.min(mses)\n",
        "\n",
        "# Print the results\n",
        "print(\"Minimum MSE:\", min_mse)\n",
        "print(\"Best slope:\", best_slope)"
      ]
    },
    {
      "cell_type": "markdown",
      "source": [
        "When we plot the data, it results in the plot below that shows how different slopes result in different MSEs. *The lowest point on this curve is our optimal slope.*"
      ],
      "metadata": {
        "id": "p8obaDHQgfrl"
      }
    },
    {
      "cell_type": "code",
      "execution_count": null,
      "metadata": {
        "id": "1QDWA079yG8_",
        "outputId": "0ce79a12-355d-457f-ef6f-2498a6aeba4a"
      },
      "outputs": [
        {
          "data": {
            "image/png": "[encoded data removed]",
            "text/plain": [
              "<Figure size 600x400 with 1 Axes>"
            ]
          },
          "metadata": {},
          "output_type": "display_data"
        }
      ],
      "source": [
        "# Plot the results\n",
        "plt.figure(figsize=(6,4))\n",
        "ax = plt.gca()\n",
        "ax.set_facecolor('whitesmoke')\n",
        "\n",
        "# Plot the lineplot\n",
        "sns.lineplot(x=slopes, y=mses)\n",
        "\n",
        "# Plot the specific point (minimum MSE)\n",
        "plt.scatter(best_slope, min_mse, color='white', s=100, edgecolor='black', zorder=5)\n",
        "\n",
        "# Annotate the point\n",
        "plt.annotate(f'Slope: {best_slope:.4f}\\nMSE: {min_mse:.2f}',\n",
        "             (best_slope, min_mse),\n",
        "             textcoords=\"offset points\",\n",
        "             xytext=(0,18),\n",
        "             ha='center',\n",
        "             color='red',\n",
        "             fontsize=12,\n",
        "             bbox=dict(boxstyle='round,pad=0.3', edgecolor='red', facecolor='white'))\n",
        "\n",
        "# Add titles and labels\n",
        "plt.xlabel(\"Slope (m)\", fontsize=12)\n",
        "plt.ylabel(\"MSE\", fontsize=12)\n",
        "\n",
        "# Increase the size of the x and y ticks\n",
        "plt.xticks(fontsize=12)\n",
        "plt.yticks(fontsize=12)\n",
        "\n",
        "# Turn off the grid\n",
        "plt.grid(False)\n",
        "\n",
        "plt.savefig('optmod.png')\n",
        "plt.show()"
      ]
    },
    {
      "cell_type": "markdown",
      "metadata": {
        "id": "XGDt4sGHyG9A"
      },
      "source": [
        "**Observations:**\n",
        "- This plot shows how the Mean Squared Error changes with different slopes. The lowest point on this curve represents the optimal slope for our model.\n",
        "- The optimal slope we found (approximately 0.1437) matches closely with the coefficient our LinearRegression model calculated earlier.\n",
        "- This validates our model's performance and shows that it has indeed found the best-fitting line for our data."
      ]
    },
    {
      "cell_type": "markdown",
      "metadata": {
        "id": "TNnScfHYyG9A"
      },
      "source": [
        "#### **Finding the Optimal Slope using SciPy**\n",
        "To find the optimal slope automatically, we can use a special function called **optimize.minimize()** and pass on our objective function (in this case, mse) and initial guess (x0 = 0.2)."
      ]
    },
    {
      "cell_type": "code",
      "execution_count": null,
      "metadata": {
        "id": "ItYOorhCyG9A",
        "outputId": "6617b135-e797-4b99-8830-86e1cb6f7d91"
      },
      "outputs": [
        {
          "data": {
            "text/plain": [
              "0.14373189035159484"
            ]
          },
          "execution_count": 268,
          "metadata": {},
          "output_type": "execute_result"
        }
      ],
      "source": [
        "from scipy import optimize\n",
        "\n",
        "result = optimize.minimize(mse, x0 = 0.2)\n",
        "optimal_slope  = result.x[0]\n",
        "optimal_slope"
      ]
    },
    {
      "cell_type": "markdown",
      "metadata": {
        "id": "BBDmI2M7yG9A"
      },
      "source": [
        "This gives us the optimal slope of about 0.1437. Note that the optimal slope we found through optimization, matches exactly with the coefficient our LinearRegression model found earlier.\n",
        "\n",
        "*This is because when we trained the model using sklearn, the process involved trying different values of slope until the loss was minimized.*"
      ]
    },
    {
      "cell_type": "markdown",
      "source": [
        "#### **Why It Matters?**\n",
        "\n",
        "Understanding model optimization helps us:\n",
        "\n",
        "1. Find the best possible model for our data.\n",
        "\n",
        "2. Understand how our model makes predictions.\n",
        "\n",
        "3. Improve our model’s accuracy over time."
      ],
      "metadata": {
        "id": "FtSqU5KNhhx1"
      }
    },
    {
      "cell_type": "markdown",
      "metadata": {
        "id": "sQb6-OSFyG9A"
      },
      "source": [
        "## 4. Multiple Linear Regression\n",
        "Multiple linear regression is like *considering multiple factors when making a prediction*. Instead of just looking at the total bill to guess the tip, we might also want to consider how many people are at the table, or whether it’s a weekend or not.\n",
        "\n",
        "Now, in addition to just using the total bill to predict the tip, we also want to use another feature let’s say the number of people at the table (‘size’ column from our dataset)."
      ]
    },
    {
      "cell_type": "markdown",
      "source": [
        "#### **How Does it Work?**\n",
        "\n",
        "In simple linear regression, our equation looked like this:\n",
        "\n",
        "**Tip = Slope (m) × Total Bill + Intercept (b)**\n",
        "\n",
        "In multiple linear regression, we simply add more factors:\n",
        "\n",
        "**Tip = (Slope1 × Total Bill) + (Slope2 × Number of People) + Intercept (0)**\n",
        "\n",
        "Each factor gets its own slope, showing how much it influences the tip and we set the intercept as 0 using **fit_intercept = False** when creating the model object (\\$0 tip when the total bill is $0).\n",
        "\n",
        "To find the values of the slope, we build our model using sklearn library and much of the process remains the same with only difference being is that we add more features that we want to use and update variable X."
      ],
      "metadata": {
        "id": "XbbS8XNfiPt_"
      }
    },
    {
      "cell_type": "code",
      "execution_count": null,
      "metadata": {
        "id": "3uYBfoLwyG9A",
        "outputId": "f75ea5bf-d0f1-4f1d-c530-87659711cf0f"
      },
      "outputs": [
        {
          "data": {
            "text/html": [
              "<style>#sk-container-id-10 {\n",
              "  /* Definition of color scheme common for light and dark mode */\n",
              "  --sklearn-color-text: black;\n",
              "  --sklearn-color-line: gray;\n",
              "  /* Definition of color scheme for unfitted estimators */\n",
              "  --sklearn-color-unfitted-level-0: #fff5e6;\n",
              "  --sklearn-color-unfitted-level-1: #f6e4d2;\n",
              "  --sklearn-color-unfitted-level-2: #ffe0b3;\n",
              "  --sklearn-color-unfitted-level-3: chocolate;\n",
              "  /* Definition of color scheme for fitted estimators */\n",
              "  --sklearn-color-fitted-level-0: #f0f8ff;\n",
              "  --sklearn-color-fitted-level-1: #d4ebff;\n",
              "  --sklearn-color-fitted-level-2: #b3dbfd;\n",
              "  --sklearn-color-fitted-level-3: cornflowerblue;\n",
              "\n",
              "  /* Specific color for light theme */\n",
              "  --sklearn-color-text-on-default-background: var(--sg-text-color, var(--theme-code-foreground, var(--jp-content-font-color1, black)));\n",
              "  --sklearn-color-background: var(--sg-background-color, var(--theme-background, var(--jp-layout-color0, white)));\n",
              "  --sklearn-color-border-box: var(--sg-text-color, var(--theme-code-foreground, var(--jp-content-font-color1, black)));\n",
              "  --sklearn-color-icon: #696969;\n",
              "\n",
              "  @media (prefers-color-scheme: dark) {\n",
              "    /* Redefinition of color scheme for dark theme */\n",
              "    --sklearn-color-text-on-default-background: var(--sg-text-color, var(--theme-code-foreground, var(--jp-content-font-color1, white)));\n",
              "    --sklearn-color-background: var(--sg-background-color, var(--theme-background, var(--jp-layout-color0, #111)));\n",
              "    --sklearn-color-border-box: var(--sg-text-color, var(--theme-code-foreground, var(--jp-content-font-color1, white)));\n",
              "    --sklearn-color-icon: #878787;\n",
              "  }\n",
              "}\n",
              "\n",
              "#sk-container-id-10 {\n",
              "  color: var(--sklearn-color-text);\n",
              "}\n",
              "\n",
              "#sk-container-id-10 pre {\n",
              "  padding: 0;\n",
              "}\n",
              "\n",
              "#sk-container-id-10 input.sk-hidden--visually {\n",
              "  border: 0;\n",
              "  clip: rect(1px 1px 1px 1px);\n",
              "  clip: rect(1px, 1px, 1px, 1px);\n",
              "  height: 1px;\n",
              "  margin: -1px;\n",
              "  overflow: hidden;\n",
              "  padding: 0;\n",
              "  position: absolute;\n",
              "  width: 1px;\n",
              "}\n",
              "\n",
              "#sk-container-id-10 div.sk-dashed-wrapped {\n",
              "  border: 1px dashed var(--sklearn-color-line);\n",
              "  margin: 0 0.4em 0.5em 0.4em;\n",
              "  box-sizing: border-box;\n",
              "  padding-bottom: 0.4em;\n",
              "  background-color: var(--sklearn-color-background);\n",
              "}\n",
              "\n",
              "#sk-container-id-10 div.sk-container {\n",
              "  /* jupyter's `normalize.less` sets `[hidden] { display: none; }`\n",
              "     but bootstrap.min.css set `[hidden] { display: none !important; }`\n",
              "     so we also need the `!important` here to be able to override the\n",
              "     default hidden behavior on the sphinx rendered scikit-learn.org.\n",
              "     See: https://github.com/scikit-learn/scikit-learn/issues/21755 */\n",
              "  display: inline-block !important;\n",
              "  position: relative;\n",
              "}\n",
              "\n",
              "#sk-container-id-10 div.sk-text-repr-fallback {\n",
              "  display: none;\n",
              "}\n",
              "\n",
              "div.sk-parallel-item,\n",
              "div.sk-serial,\n",
              "div.sk-item {\n",
              "  /* draw centered vertical line to link estimators */\n",
              "  background-image: linear-gradient(var(--sklearn-color-text-on-default-background), var(--sklearn-color-text-on-default-background));\n",
              "  background-size: 2px 100%;\n",
              "  background-repeat: no-repeat;\n",
              "  background-position: center center;\n",
              "}\n",
              "\n",
              "/* Parallel-specific style estimator block */\n",
              "\n",
              "#sk-container-id-10 div.sk-parallel-item::after {\n",
              "  content: \"\";\n",
              "  width: 100%;\n",
              "  border-bottom: 2px solid var(--sklearn-color-text-on-default-background);\n",
              "  flex-grow: 1;\n",
              "}\n",
              "\n",
              "#sk-container-id-10 div.sk-parallel {\n",
              "  display: flex;\n",
              "  align-items: stretch;\n",
              "  justify-content: center;\n",
              "  background-color: var(--sklearn-color-background);\n",
              "  position: relative;\n",
              "}\n",
              "\n",
              "#sk-container-id-10 div.sk-parallel-item {\n",
              "  display: flex;\n",
              "  flex-direction: column;\n",
              "}\n",
              "\n",
              "#sk-container-id-10 div.sk-parallel-item:first-child::after {\n",
              "  align-self: flex-end;\n",
              "  width: 50%;\n",
              "}\n",
              "\n",
              "#sk-container-id-10 div.sk-parallel-item:last-child::after {\n",
              "  align-self: flex-start;\n",
              "  width: 50%;\n",
              "}\n",
              "\n",
              "#sk-container-id-10 div.sk-parallel-item:only-child::after {\n",
              "  width: 0;\n",
              "}\n",
              "\n",
              "/* Serial-specific style estimator block */\n",
              "\n",
              "#sk-container-id-10 div.sk-serial {\n",
              "  display: flex;\n",
              "  flex-direction: column;\n",
              "  align-items: center;\n",
              "  background-color: var(--sklearn-color-background);\n",
              "  padding-right: 1em;\n",
              "  padding-left: 1em;\n",
              "}\n",
              "\n",
              "\n",
              "/* Toggleable style: style used for estimator/Pipeline/ColumnTransformer box that is\n",
              "clickable and can be expanded/collapsed.\n",
              "- Pipeline and ColumnTransformer use this feature and define the default style\n",
              "- Estimators will overwrite some part of the style using the `sk-estimator` class\n",
              "*/\n",
              "\n",
              "/* Pipeline and ColumnTransformer style (default) */\n",
              "\n",
              "#sk-container-id-10 div.sk-toggleable {\n",
              "  /* Default theme specific background. It is overwritten whether we have a\n",
              "  specific estimator or a Pipeline/ColumnTransformer */\n",
              "  background-color: var(--sklearn-color-background);\n",
              "}\n",
              "\n",
              "/* Toggleable label */\n",
              "#sk-container-id-10 label.sk-toggleable__label {\n",
              "  cursor: pointer;\n",
              "  display: block;\n",
              "  width: 100%;\n",
              "  margin-bottom: 0;\n",
              "  padding: 0.5em;\n",
              "  box-sizing: border-box;\n",
              "  text-align: center;\n",
              "}\n",
              "\n",
              "#sk-container-id-10 label.sk-toggleable__label-arrow:before {\n",
              "  /* Arrow on the left of the label */\n",
              "  content: \"▸\";\n",
              "  float: left;\n",
              "  margin-right: 0.25em;\n",
              "  color: var(--sklearn-color-icon);\n",
              "}\n",
              "\n",
              "#sk-container-id-10 label.sk-toggleable__label-arrow:hover:before {\n",
              "  color: var(--sklearn-color-text);\n",
              "}\n",
              "\n",
              "/* Toggleable content - dropdown */\n",
              "\n",
              "#sk-container-id-10 div.sk-toggleable__content {\n",
              "  max-height: 0;\n",
              "  max-width: 0;\n",
              "  overflow: hidden;\n",
              "  text-align: left;\n",
              "  /* unfitted */\n",
              "  background-color: var(--sklearn-color-unfitted-level-0);\n",
              "}\n",
              "\n",
              "#sk-container-id-10 div.sk-toggleable__content.fitted {\n",
              "  /* fitted */\n",
              "  background-color: var(--sklearn-color-fitted-level-0);\n",
              "}\n",
              "\n",
              "#sk-container-id-10 div.sk-toggleable__content pre {\n",
              "  margin: 0.2em;\n",
              "  border-radius: 0.25em;\n",
              "  color: var(--sklearn-color-text);\n",
              "  /* unfitted */\n",
              "  background-color: var(--sklearn-color-unfitted-level-0);\n",
              "}\n",
              "\n",
              "#sk-container-id-10 div.sk-toggleable__content.fitted pre {\n",
              "  /* unfitted */\n",
              "  background-color: var(--sklearn-color-fitted-level-0);\n",
              "}\n",
              "\n",
              "#sk-container-id-10 input.sk-toggleable__control:checked~div.sk-toggleable__content {\n",
              "  /* Expand drop-down */\n",
              "  max-height: 200px;\n",
              "  max-width: 100%;\n",
              "  overflow: auto;\n",
              "}\n",
              "\n",
              "#sk-container-id-10 input.sk-toggleable__control:checked~label.sk-toggleable__label-arrow:before {\n",
              "  content: \"▾\";\n",
              "}\n",
              "\n",
              "/* Pipeline/ColumnTransformer-specific style */\n",
              "\n",
              "#sk-container-id-10 div.sk-label input.sk-toggleable__control:checked~label.sk-toggleable__label {\n",
              "  color: var(--sklearn-color-text);\n",
              "  background-color: var(--sklearn-color-unfitted-level-2);\n",
              "}\n",
              "\n",
              "#sk-container-id-10 div.sk-label.fitted input.sk-toggleable__control:checked~label.sk-toggleable__label {\n",
              "  background-color: var(--sklearn-color-fitted-level-2);\n",
              "}\n",
              "\n",
              "/* Estimator-specific style */\n",
              "\n",
              "/* Colorize estimator box */\n",
              "#sk-container-id-10 div.sk-estimator input.sk-toggleable__control:checked~label.sk-toggleable__label {\n",
              "  /* unfitted */\n",
              "  background-color: var(--sklearn-color-unfitted-level-2);\n",
              "}\n",
              "\n",
              "#sk-container-id-10 div.sk-estimator.fitted input.sk-toggleable__control:checked~label.sk-toggleable__label {\n",
              "  /* fitted */\n",
              "  background-color: var(--sklearn-color-fitted-level-2);\n",
              "}\n",
              "\n",
              "#sk-container-id-10 div.sk-label label.sk-toggleable__label,\n",
              "#sk-container-id-10 div.sk-label label {\n",
              "  /* The background is the default theme color */\n",
              "  color: var(--sklearn-color-text-on-default-background);\n",
              "}\n",
              "\n",
              "/* On hover, darken the color of the background */\n",
              "#sk-container-id-10 div.sk-label:hover label.sk-toggleable__label {\n",
              "  color: var(--sklearn-color-text);\n",
              "  background-color: var(--sklearn-color-unfitted-level-2);\n",
              "}\n",
              "\n",
              "/* Label box, darken color on hover, fitted */\n",
              "#sk-container-id-10 div.sk-label.fitted:hover label.sk-toggleable__label.fitted {\n",
              "  color: var(--sklearn-color-text);\n",
              "  background-color: var(--sklearn-color-fitted-level-2);\n",
              "}\n",
              "\n",
              "/* Estimator label */\n",
              "\n",
              "#sk-container-id-10 div.sk-label label {\n",
              "  font-family: monospace;\n",
              "  font-weight: bold;\n",
              "  display: inline-block;\n",
              "  line-height: 1.2em;\n",
              "}\n",
              "\n",
              "#sk-container-id-10 div.sk-label-container {\n",
              "  text-align: center;\n",
              "}\n",
              "\n",
              "/* Estimator-specific */\n",
              "#sk-container-id-10 div.sk-estimator {\n",
              "  font-family: monospace;\n",
              "  border: 1px dotted var(--sklearn-color-border-box);\n",
              "  border-radius: 0.25em;\n",
              "  box-sizing: border-box;\n",
              "  margin-bottom: 0.5em;\n",
              "  /* unfitted */\n",
              "  background-color: var(--sklearn-color-unfitted-level-0);\n",
              "}\n",
              "\n",
              "#sk-container-id-10 div.sk-estimator.fitted {\n",
              "  /* fitted */\n",
              "  background-color: var(--sklearn-color-fitted-level-0);\n",
              "}\n",
              "\n",
              "/* on hover */\n",
              "#sk-container-id-10 div.sk-estimator:hover {\n",
              "  /* unfitted */\n",
              "  background-color: var(--sklearn-color-unfitted-level-2);\n",
              "}\n",
              "\n",
              "#sk-container-id-10 div.sk-estimator.fitted:hover {\n",
              "  /* fitted */\n",
              "  background-color: var(--sklearn-color-fitted-level-2);\n",
              "}\n",
              "\n",
              "/* Specification for estimator info (e.g. \"i\" and \"?\") */\n",
              "\n",
              "/* Common style for \"i\" and \"?\" */\n",
              "\n",
              ".sk-estimator-doc-link,\n",
              "a:link.sk-estimator-doc-link,\n",
              "a:visited.sk-estimator-doc-link {\n",
              "  float: right;\n",
              "  font-size: smaller;\n",
              "  line-height: 1em;\n",
              "  font-family: monospace;\n",
              "  background-color: var(--sklearn-color-background);\n",
              "  border-radius: 1em;\n",
              "  height: 1em;\n",
              "  width: 1em;\n",
              "  text-decoration: none !important;\n",
              "  margin-left: 1ex;\n",
              "  /* unfitted */\n",
              "  border: var(--sklearn-color-unfitted-level-1) 1pt solid;\n",
              "  color: var(--sklearn-color-unfitted-level-1);\n",
              "}\n",
              "\n",
              ".sk-estimator-doc-link.fitted,\n",
              "a:link.sk-estimator-doc-link.fitted,\n",
              "a:visited.sk-estimator-doc-link.fitted {\n",
              "  /* fitted */\n",
              "  border: var(--sklearn-color-fitted-level-1) 1pt solid;\n",
              "  color: var(--sklearn-color-fitted-level-1);\n",
              "}\n",
              "\n",
              "/* On hover */\n",
              "div.sk-estimator:hover .sk-estimator-doc-link:hover,\n",
              ".sk-estimator-doc-link:hover,\n",
              "div.sk-label-container:hover .sk-estimator-doc-link:hover,\n",
              ".sk-estimator-doc-link:hover {\n",
              "  /* unfitted */\n",
              "  background-color: var(--sklearn-color-unfitted-level-3);\n",
              "  color: var(--sklearn-color-background);\n",
              "  text-decoration: none;\n",
              "}\n",
              "\n",
              "div.sk-estimator.fitted:hover .sk-estimator-doc-link.fitted:hover,\n",
              ".sk-estimator-doc-link.fitted:hover,\n",
              "div.sk-label-container:hover .sk-estimator-doc-link.fitted:hover,\n",
              ".sk-estimator-doc-link.fitted:hover {\n",
              "  /* fitted */\n",
              "  background-color: var(--sklearn-color-fitted-level-3);\n",
              "  color: var(--sklearn-color-background);\n",
              "  text-decoration: none;\n",
              "}\n",
              "\n",
              "/* Span, style for the box shown on hovering the info icon */\n",
              ".sk-estimator-doc-link span {\n",
              "  display: none;\n",
              "  z-index: 9999;\n",
              "  position: relative;\n",
              "  font-weight: normal;\n",
              "  right: .2ex;\n",
              "  padding: .5ex;\n",
              "  margin: .5ex;\n",
              "  width: min-content;\n",
              "  min-width: 20ex;\n",
              "  max-width: 50ex;\n",
              "  color: var(--sklearn-color-text);\n",
              "  box-shadow: 2pt 2pt 4pt #999;\n",
              "  /* unfitted */\n",
              "  background: var(--sklearn-color-unfitted-level-0);\n",
              "  border: .5pt solid var(--sklearn-color-unfitted-level-3);\n",
              "}\n",
              "\n",
              ".sk-estimator-doc-link.fitted span {\n",
              "  /* fitted */\n",
              "  background: var(--sklearn-color-fitted-level-0);\n",
              "  border: var(--sklearn-color-fitted-level-3);\n",
              "}\n",
              "\n",
              ".sk-estimator-doc-link:hover span {\n",
              "  display: block;\n",
              "}\n",
              "\n",
              "/* \"?\"-specific style due to the `<a>` HTML tag */\n",
              "\n",
              "#sk-container-id-10 a.estimator_doc_link {\n",
              "  float: right;\n",
              "  font-size: 1rem;\n",
              "  line-height: 1em;\n",
              "  font-family: monospace;\n",
              "  background-color: var(--sklearn-color-background);\n",
              "  border-radius: 1rem;\n",
              "  height: 1rem;\n",
              "  width: 1rem;\n",
              "  text-decoration: none;\n",
              "  /* unfitted */\n",
              "  color: var(--sklearn-color-unfitted-level-1);\n",
              "  border: var(--sklearn-color-unfitted-level-1) 1pt solid;\n",
              "}\n",
              "\n",
              "#sk-container-id-10 a.estimator_doc_link.fitted {\n",
              "  /* fitted */\n",
              "  border: var(--sklearn-color-fitted-level-1) 1pt solid;\n",
              "  color: var(--sklearn-color-fitted-level-1);\n",
              "}\n",
              "\n",
              "/* On hover */\n",
              "#sk-container-id-10 a.estimator_doc_link:hover {\n",
              "  /* unfitted */\n",
              "  background-color: var(--sklearn-color-unfitted-level-3);\n",
              "  color: var(--sklearn-color-background);\n",
              "  text-decoration: none;\n",
              "}\n",
              "\n",
              "#sk-container-id-10 a.estimator_doc_link.fitted:hover {\n",
              "  /* fitted */\n",
              "  background-color: var(--sklearn-color-fitted-level-3);\n",
              "}\n",
              "</style><div id=\"sk-container-id-10\" class=\"sk-top-container\"><div class=\"sk-text-repr-fallback\"><pre>LinearRegression(fit_intercept=False)</pre><b>In a Jupyter environment, please rerun this cell to show the HTML representation or trust the notebook. <br />On GitHub, the HTML representation is unable to render, please try loading this page with nbviewer.org.</b></div><div class=\"sk-container\" hidden><div class=\"sk-item\"><div class=\"sk-estimator fitted sk-toggleable\"><input class=\"sk-toggleable__control sk-hidden--visually\" id=\"sk-estimator-id-10\" type=\"checkbox\" checked><label for=\"sk-estimator-id-10\" class=\"sk-toggleable__label fitted sk-toggleable__label-arrow fitted\">&nbsp;&nbsp;LinearRegression<a class=\"sk-estimator-doc-link fitted\" rel=\"noreferrer\" target=\"_blank\" href=\"https://scikit-learn.org/1.5/modules/generated/sklearn.linear_model.LinearRegression.html\">?<span>Documentation for LinearRegression</span></a><span class=\"sk-estimator-doc-link fitted\">i<span>Fitted</span></span></label><div class=\"sk-toggleable__content fitted\"><pre>LinearRegression(fit_intercept=False)</pre></div> </div></div></div></div>"
            ],
            "text/plain": [
              "LinearRegression(fit_intercept=False)"
            ]
          },
          "execution_count": 271,
          "metadata": {},
          "output_type": "execute_result"
        }
      ],
      "source": [
        "# fit a model on total_bill and size\n",
        "X = data[['total_bill', 'size']]\n",
        "y = data['tip']\n",
        "\n",
        "model = LinearRegression(fit_intercept = False)\n",
        "model.fit(X, y)"
      ]
    },
    {
      "cell_type": "markdown",
      "source": [
        "Notice when creating the model, we didn’t specify any special parameters to let the model know if we are using multiple features. This is because it is a very user-friendly library which can handle any number of features."
      ],
      "metadata": {
        "id": "k8vdSaRrilGR"
      }
    },
    {
      "cell_type": "code",
      "execution_count": null,
      "metadata": {
        "id": "K8a7nLbryG9A",
        "outputId": "d329747a-35b3-443a-bd7f-27e619fd62af"
      },
      "outputs": [
        {
          "name": "stdout",
          "output_type": "stream",
          "text": [
            "Coefficients for total_bill and size: [0.1007119  0.36209717]\n"
          ]
        }
      ],
      "source": [
        "print(\"Coefficients for total_bill and size:\", model.coef_)"
      ]
    },
    {
      "cell_type": "markdown",
      "metadata": {
        "id": "vzkoSLlvyG9B"
      },
      "source": [
        "Using **model.coef_**, we get the values as 0.10 for Slope1 (for Total Bill) and 0.36 for Slope2 (for Number of People).\n",
        "\n",
        "**Observations:**\n",
        "- In this multiple regression model, we consider both the total bill and the party size to predict the tip. The coefficients show how each factor influences the tip amount.\n",
        "- Our updated model suggests that for every dollar increase in the total bill, the tip increases by about 10 cents, and for each additional person in the party, the tip increases by about 36 cents."
      ]
    },
    {
      "cell_type": "markdown",
      "source": [
        "Now, suppose we have a table of 3 people and total bill was $25, plugging the values from above into our equation we can manually predict the tip as:\n",
        "\n",
        "**Predicted Tip** = (0.10 × $25) + (0.36 × 3)\n",
        "\n",
        "=> \\$2.50 + $1.08\n",
        "\n",
        "=> $3.58"
      ],
      "metadata": {
        "id": "yXeu7y22jBue"
      }
    },
    {
      "cell_type": "markdown",
      "source": [
        "Or using the regression model:"
      ],
      "metadata": {
        "id": "3GCnChygjRe5"
      }
    },
    {
      "cell_type": "code",
      "execution_count": null,
      "metadata": {
        "scrolled": true,
        "id": "yEixoKnMyG9B",
        "outputId": "bfe7d52a-2e40-4a84-b899-f254d6112790"
      },
      "outputs": [
        {
          "name": "stdout",
          "output_type": "stream",
          "text": [
            "For a bill of $25 and 3 people, the predicted tip is $3.60\n"
          ]
        }
      ],
      "source": [
        "# Make a prediction with the multiple regression model\n",
        "sample_bill = 25\n",
        "sample_size = 3\n",
        "predicted_tip = model.predict(pd.DataFrame([[sample_bill, sample_size]], columns=['total_bill', 'size']))[0]\n",
        "print(f\"For a bill of ${sample_bill} and {sample_size} people, the predicted tip is ${predicted_tip:.2f}\")"
      ]
    },
    {
      "cell_type": "markdown",
      "source": [
        "#### **Which Model is Better (Simple vs. Multiple Linear Regression) ?**\n",
        "\n",
        "Let’s take a look at what this model predicts for our entire dataset."
      ],
      "metadata": {
        "id": "LmTNyjeIja3S"
      }
    },
    {
      "cell_type": "code",
      "execution_count": null,
      "metadata": {
        "id": "uIHBI4xyyG9E",
        "outputId": "e19428f7-4e4f-4074-a4d6-e24cd1ddbf86"
      },
      "outputs": [
        {
          "data": {
            "text/html": [
              "<div>\n",
              "<style scoped>\n",
              "    .dataframe tbody tr th:only-of-type {\n",
              "        vertical-align: middle;\n",
              "    }\n",
              "\n",
              "    .dataframe tbody tr th {\n",
              "        vertical-align: top;\n",
              "    }\n",
              "\n",
              "    .dataframe thead th {\n",
              "        text-align: right;\n",
              "    }\n",
              "</style>\n",
              "<table border=\"1\" class=\"dataframe\">\n",
              "  <thead>\n",
              "    <tr style=\"text-align: right;\">\n",
              "      <th></th>\n",
              "      <th>total_bill</th>\n",
              "      <th>tip</th>\n",
              "      <th>sex</th>\n",
              "      <th>smoker</th>\n",
              "      <th>day</th>\n",
              "      <th>time</th>\n",
              "      <th>size</th>\n",
              "      <th>prediction</th>\n",
              "      <th>l2_loss</th>\n",
              "      <th>prediction_2</th>\n",
              "    </tr>\n",
              "  </thead>\n",
              "  <tbody>\n",
              "    <tr>\n",
              "      <th>97</th>\n",
              "      <td>12.03</td>\n",
              "      <td>1.50</td>\n",
              "      <td>Male</td>\n",
              "      <td>Yes</td>\n",
              "      <td>Fri</td>\n",
              "      <td>Dinner</td>\n",
              "      <td>2</td>\n",
              "      <td>1.729095</td>\n",
              "      <td>0.052484</td>\n",
              "      <td>1.935759</td>\n",
              "    </tr>\n",
              "    <tr>\n",
              "      <th>65</th>\n",
              "      <td>20.08</td>\n",
              "      <td>3.15</td>\n",
              "      <td>Male</td>\n",
              "      <td>No</td>\n",
              "      <td>Sat</td>\n",
              "      <td>Dinner</td>\n",
              "      <td>3</td>\n",
              "      <td>2.886136</td>\n",
              "      <td>0.069624</td>\n",
              "      <td>3.108587</td>\n",
              "    </tr>\n",
              "    <tr>\n",
              "      <th>153</th>\n",
              "      <td>24.55</td>\n",
              "      <td>2.00</td>\n",
              "      <td>Male</td>\n",
              "      <td>No</td>\n",
              "      <td>Sun</td>\n",
              "      <td>Dinner</td>\n",
              "      <td>4</td>\n",
              "      <td>3.528618</td>\n",
              "      <td>2.336673</td>\n",
              "      <td>3.920866</td>\n",
              "    </tr>\n",
              "    <tr>\n",
              "      <th>179</th>\n",
              "      <td>34.63</td>\n",
              "      <td>3.55</td>\n",
              "      <td>Male</td>\n",
              "      <td>Yes</td>\n",
              "      <td>Sun</td>\n",
              "      <td>Dinner</td>\n",
              "      <td>2</td>\n",
              "      <td>4.977436</td>\n",
              "      <td>2.037572</td>\n",
              "      <td>4.211848</td>\n",
              "    </tr>\n",
              "    <tr>\n",
              "      <th>209</th>\n",
              "      <td>12.76</td>\n",
              "      <td>2.23</td>\n",
              "      <td>Female</td>\n",
              "      <td>Yes</td>\n",
              "      <td>Sat</td>\n",
              "      <td>Dinner</td>\n",
              "      <td>2</td>\n",
              "      <td>1.834019</td>\n",
              "      <td>0.156801</td>\n",
              "      <td>2.009278</td>\n",
              "    </tr>\n",
              "  </tbody>\n",
              "</table>\n",
              "</div>"
            ],
            "text/plain": [
              "     total_bill   tip     sex smoker  day    time  size  prediction   l2_loss  \\\n",
              "97        12.03  1.50    Male    Yes  Fri  Dinner     2    1.729095  0.052484   \n",
              "65        20.08  3.15    Male     No  Sat  Dinner     3    2.886136  0.069624   \n",
              "153       24.55  2.00    Male     No  Sun  Dinner     4    3.528618  2.336673   \n",
              "179       34.63  3.55    Male    Yes  Sun  Dinner     2    4.977436  2.037572   \n",
              "209       12.76  2.23  Female    Yes  Sat  Dinner     2    1.834019  0.156801   \n",
              "\n",
              "     prediction_2  \n",
              "97       1.935759  \n",
              "65       3.108587  \n",
              "153      3.920866  \n",
              "179      4.211848  \n",
              "209      2.009278  "
            ]
          },
          "execution_count": 275,
          "metadata": {},
          "output_type": "execute_result"
        }
      ],
      "source": [
        "data['prediction_2'] = model.predict(X)\n",
        "data.sample(5)"
      ]
    },
    {
      "cell_type": "markdown",
      "source": [
        "From the above table we can observe that the difference in predictions between a simple and multiple linear regression model are very close with couple of differences.\n",
        "\n",
        "But how do we know which one is better? We can use the loss functions such as the mean squared error to determine the accuracy of our models’ predictions."
      ],
      "metadata": {
        "id": "UwLoVFkXjl6z"
      }
    },
    {
      "cell_type": "code",
      "execution_count": null,
      "metadata": {
        "id": "Ix_RY3-LyG9E",
        "outputId": "ad212dfd-1cfb-4121-9177-9fa94ad4e020"
      },
      "outputs": [
        {
          "data": {
            "text/plain": [
              "1.1781161154513171"
            ]
          },
          "execution_count": 276,
          "metadata": {},
          "output_type": "execute_result"
        }
      ],
      "source": [
        "mean_squared_error(data['tip'], data['prediction'])"
      ]
    },
    {
      "cell_type": "markdown",
      "source": [
        "For the simple linear regression model, the mean squared error we get is 1.178."
      ],
      "metadata": {
        "id": "m1KXdPo4jqRY"
      }
    },
    {
      "cell_type": "code",
      "execution_count": null,
      "metadata": {
        "id": "TTF-U-f5yG9F",
        "outputId": "05695c0a-d875-427e-bfe5-b32df117d997"
      },
      "outputs": [
        {
          "data": {
            "text/plain": [
              "1.06482122862577"
            ]
          },
          "execution_count": 277,
          "metadata": {},
          "output_type": "execute_result"
        }
      ],
      "source": [
        "mean_squared_error(data['tip'], data['prediction_2'])"
      ]
    },
    {
      "cell_type": "markdown",
      "source": [
        "For the multiple linear regression model, the mean squared error we get is 1.065."
      ],
      "metadata": {
        "id": "H9sJqp-wjrAF"
      }
    },
    {
      "cell_type": "markdown",
      "metadata": {
        "id": "V-hWgr0eyG9F"
      },
      "source": [
        "**Observation:**\n",
        "- Our multiple linear regression model achieves the lowest mean squared error. This means that *when we gave more features or information to the model, it returned higher-quality predictions*.\n"
      ]
    },
    {
      "cell_type": "markdown",
      "source": [
        "Does this make sense? Not so because in real world a simple linear regression model is much closer to the actual reality where the tip is a certain percent of the total bill. So, we need to keep in mind a model’s interpretation and real-world applicability as well."
      ],
      "metadata": {
        "id": "S_IF_KlLj8YK"
      }
    },
    {
      "cell_type": "markdown",
      "metadata": {
        "id": "K2s_F5JNyG9F"
      },
      "source": [
        "## 5. Handling Non-Numeric Features\n",
        "Suppose we want to use some more features that are available in the dataset, but they aren’t in a numeric format, like whether it’s a weekend or not?\n",
        "\n",
        "This can be a challenge as many algorithms only accept numerical variables. To address this issue, we must first *convert these features into numeric scale* and there are several strategies we could utilize to do so.\n",
        "\n",
        "One basic approach is to use *label encoding* to convert non-numeric features into a numeric scale. Suppose we have a list of colors: blue, green, red and yellow. After conversion, we now have blue = 1, green = 2, red = 3 and yellow = 4. In doing so, we are essentially saying that green is twice as blue and yellow is four times blue. While this technique is commonly used and will work, we could see how the interpretation can be confusing."
      ]
    },
    {
      "cell_type": "markdown",
      "metadata": {
        "id": "xSbaPv2qyG9G"
      },
      "source": [
        "One common and popular strategy that we are going to explore is to use *one-hot encoding*. The idea is to convert each unique value of a non-numeric feature into its own dummy feature (binary column). Each of these new columns will have a 1 or 0 indicating the presence or absence of that value in the original column."
      ]
    },
    {
      "cell_type": "markdown",
      "source": [
        "For example, we want to use the ‘**day**’ feature as well in addition to the other two features we previously used and it has values such as Thursday, Friday, Saturday and Sunday.\n",
        "\n",
        "Based on the unique values of the day column, it will create dummy features such as **day_Thur**, **day_Fri**, **day_Sat** and **day_Sun** into its own binary column as shown below."
      ],
      "metadata": {
        "id": "-BzO1k5Qk8Y_"
      }
    },
    {
      "cell_type": "markdown",
      "source": [
        "We can create dummy features in pandas using:"
      ],
      "metadata": {
        "id": "LcChVS4BlPsz"
      }
    },
    {
      "cell_type": "code",
      "execution_count": null,
      "metadata": {
        "id": "4mb-NbotyG9G",
        "outputId": "0c4ced03-6309-4d09-a526-3efe4a6015ac"
      },
      "outputs": [
        {
          "data": {
            "text/html": [
              "<div>\n",
              "<style scoped>\n",
              "    .dataframe tbody tr th:only-of-type {\n",
              "        vertical-align: middle;\n",
              "    }\n",
              "\n",
              "    .dataframe tbody tr th {\n",
              "        vertical-align: top;\n",
              "    }\n",
              "\n",
              "    .dataframe thead th {\n",
              "        text-align: right;\n",
              "    }\n",
              "</style>\n",
              "<table border=\"1\" class=\"dataframe\">\n",
              "  <thead>\n",
              "    <tr style=\"text-align: right;\">\n",
              "      <th></th>\n",
              "      <th>total_bill</th>\n",
              "      <th>tip</th>\n",
              "      <th>sex</th>\n",
              "      <th>smoker</th>\n",
              "      <th>time</th>\n",
              "      <th>size</th>\n",
              "      <th>prediction</th>\n",
              "      <th>l2_loss</th>\n",
              "      <th>prediction_2</th>\n",
              "      <th>day_Thur</th>\n",
              "      <th>day_Fri</th>\n",
              "      <th>day_Sat</th>\n",
              "      <th>day_Sun</th>\n",
              "    </tr>\n",
              "  </thead>\n",
              "  <tbody>\n",
              "    <tr>\n",
              "      <th>88</th>\n",
              "      <td>24.71</td>\n",
              "      <td>5.85</td>\n",
              "      <td>Male</td>\n",
              "      <td>No</td>\n",
              "      <td>Lunch</td>\n",
              "      <td>2</td>\n",
              "      <td>3.551615</td>\n",
              "      <td>5.282573</td>\n",
              "      <td>3.212785</td>\n",
              "      <td>1</td>\n",
              "      <td>0</td>\n",
              "      <td>0</td>\n",
              "      <td>0</td>\n",
              "    </tr>\n",
              "    <tr>\n",
              "      <th>137</th>\n",
              "      <td>14.15</td>\n",
              "      <td>2.00</td>\n",
              "      <td>Female</td>\n",
              "      <td>No</td>\n",
              "      <td>Lunch</td>\n",
              "      <td>2</td>\n",
              "      <td>2.033806</td>\n",
              "      <td>0.001143</td>\n",
              "      <td>2.149268</td>\n",
              "      <td>1</td>\n",
              "      <td>0</td>\n",
              "      <td>0</td>\n",
              "      <td>0</td>\n",
              "    </tr>\n",
              "    <tr>\n",
              "      <th>197</th>\n",
              "      <td>43.11</td>\n",
              "      <td>5.00</td>\n",
              "      <td>Female</td>\n",
              "      <td>Yes</td>\n",
              "      <td>Lunch</td>\n",
              "      <td>4</td>\n",
              "      <td>6.196282</td>\n",
              "      <td>1.431091</td>\n",
              "      <td>5.790079</td>\n",
              "      <td>1</td>\n",
              "      <td>0</td>\n",
              "      <td>0</td>\n",
              "      <td>0</td>\n",
              "    </tr>\n",
              "    <tr>\n",
              "      <th>207</th>\n",
              "      <td>38.73</td>\n",
              "      <td>3.00</td>\n",
              "      <td>Male</td>\n",
              "      <td>Yes</td>\n",
              "      <td>Dinner</td>\n",
              "      <td>4</td>\n",
              "      <td>5.566736</td>\n",
              "      <td>6.588135</td>\n",
              "      <td>5.348961</td>\n",
              "      <td>0</td>\n",
              "      <td>0</td>\n",
              "      <td>1</td>\n",
              "      <td>0</td>\n",
              "    </tr>\n",
              "    <tr>\n",
              "      <th>166</th>\n",
              "      <td>20.76</td>\n",
              "      <td>2.24</td>\n",
              "      <td>Male</td>\n",
              "      <td>No</td>\n",
              "      <td>Dinner</td>\n",
              "      <td>2</td>\n",
              "      <td>2.983874</td>\n",
              "      <td>0.553349</td>\n",
              "      <td>2.814973</td>\n",
              "      <td>0</td>\n",
              "      <td>0</td>\n",
              "      <td>0</td>\n",
              "      <td>1</td>\n",
              "    </tr>\n",
              "  </tbody>\n",
              "</table>\n",
              "</div>"
            ],
            "text/plain": [
              "     total_bill   tip     sex smoker    time  size  prediction   l2_loss  \\\n",
              "88        24.71  5.85    Male     No   Lunch     2    3.551615  5.282573   \n",
              "137       14.15  2.00  Female     No   Lunch     2    2.033806  0.001143   \n",
              "197       43.11  5.00  Female    Yes   Lunch     4    6.196282  1.431091   \n",
              "207       38.73  3.00    Male    Yes  Dinner     4    5.566736  6.588135   \n",
              "166       20.76  2.24    Male     No  Dinner     2    2.983874  0.553349   \n",
              "\n",
              "     prediction_2  day_Thur  day_Fri  day_Sat  day_Sun  \n",
              "88       3.212785         1        0        0        0  \n",
              "137      2.149268         1        0        0        0  \n",
              "197      5.790079         1        0        0        0  \n",
              "207      5.348961         0        0        1        0  \n",
              "166      2.814973         0        0        0        1  "
            ]
          },
          "execution_count": 283,
          "metadata": {},
          "output_type": "execute_result"
        }
      ],
      "source": [
        "# Create dummy variables for 'day'\n",
        "dum_features  = pd.get_dummies(data, columns = ['day'])\n",
        "dum_features.sample(5)"
      ]
    },
    {
      "cell_type": "markdown",
      "metadata": {
        "id": "KXRVFUHyyG9G"
      },
      "source": [
        "**Observation:**\n",
        "- From the above table, we can see that for each row, only one of the dummy features is 1 if the value is present in the original column and the rest is 0."
      ]
    },
    {
      "cell_type": "markdown",
      "source": [
        "#### **Using Our New Features in the Model**\n",
        "\n",
        "Now that we’ve created these new dummy features, how do we use them in our model? Let’s look at an example:\n",
        "\n",
        "Our updated model’s equation might look like:\n",
        "\n",
        "**Tip = (Slope1 × Total Bill) + (Slope2 × Size) + (Slope3 × day_Thur) + … + (Slope6 × day_Sun)**\n",
        "\n",
        "This allows our model to learn if certain days tend to have higher or lower tips.\n",
        "\n",
        "Next, we train our model using the updated features and take a look at the model’s predictions."
      ],
      "metadata": {
        "id": "wWR2RCWF_ClP"
      }
    },
    {
      "cell_type": "code",
      "execution_count": null,
      "metadata": {
        "scrolled": true,
        "id": "sfOoMTl3yG9G",
        "outputId": "20cf7afe-0b22-418f-e96c-3ec076b0e0af"
      },
      "outputs": [
        {
          "data": {
            "text/html": [
              "<style>#sk-container-id-11 {\n",
              "  /* Definition of color scheme common for light and dark mode */\n",
              "  --sklearn-color-text: black;\n",
              "  --sklearn-color-line: gray;\n",
              "  /* Definition of color scheme for unfitted estimators */\n",
              "  --sklearn-color-unfitted-level-0: #fff5e6;\n",
              "  --sklearn-color-unfitted-level-1: #f6e4d2;\n",
              "  --sklearn-color-unfitted-level-2: #ffe0b3;\n",
              "  --sklearn-color-unfitted-level-3: chocolate;\n",
              "  /* Definition of color scheme for fitted estimators */\n",
              "  --sklearn-color-fitted-level-0: #f0f8ff;\n",
              "  --sklearn-color-fitted-level-1: #d4ebff;\n",
              "  --sklearn-color-fitted-level-2: #b3dbfd;\n",
              "  --sklearn-color-fitted-level-3: cornflowerblue;\n",
              "\n",
              "  /* Specific color for light theme */\n",
              "  --sklearn-color-text-on-default-background: var(--sg-text-color, var(--theme-code-foreground, var(--jp-content-font-color1, black)));\n",
              "  --sklearn-color-background: var(--sg-background-color, var(--theme-background, var(--jp-layout-color0, white)));\n",
              "  --sklearn-color-border-box: var(--sg-text-color, var(--theme-code-foreground, var(--jp-content-font-color1, black)));\n",
              "  --sklearn-color-icon: #696969;\n",
              "\n",
              "  @media (prefers-color-scheme: dark) {\n",
              "    /* Redefinition of color scheme for dark theme */\n",
              "    --sklearn-color-text-on-default-background: var(--sg-text-color, var(--theme-code-foreground, var(--jp-content-font-color1, white)));\n",
              "    --sklearn-color-background: var(--sg-background-color, var(--theme-background, var(--jp-layout-color0, #111)));\n",
              "    --sklearn-color-border-box: var(--sg-text-color, var(--theme-code-foreground, var(--jp-content-font-color1, white)));\n",
              "    --sklearn-color-icon: #878787;\n",
              "  }\n",
              "}\n",
              "\n",
              "#sk-container-id-11 {\n",
              "  color: var(--sklearn-color-text);\n",
              "}\n",
              "\n",
              "#sk-container-id-11 pre {\n",
              "  padding: 0;\n",
              "}\n",
              "\n",
              "#sk-container-id-11 input.sk-hidden--visually {\n",
              "  border: 0;\n",
              "  clip: rect(1px 1px 1px 1px);\n",
              "  clip: rect(1px, 1px, 1px, 1px);\n",
              "  height: 1px;\n",
              "  margin: -1px;\n",
              "  overflow: hidden;\n",
              "  padding: 0;\n",
              "  position: absolute;\n",
              "  width: 1px;\n",
              "}\n",
              "\n",
              "#sk-container-id-11 div.sk-dashed-wrapped {\n",
              "  border: 1px dashed var(--sklearn-color-line);\n",
              "  margin: 0 0.4em 0.5em 0.4em;\n",
              "  box-sizing: border-box;\n",
              "  padding-bottom: 0.4em;\n",
              "  background-color: var(--sklearn-color-background);\n",
              "}\n",
              "\n",
              "#sk-container-id-11 div.sk-container {\n",
              "  /* jupyter's `normalize.less` sets `[hidden] { display: none; }`\n",
              "     but bootstrap.min.css set `[hidden] { display: none !important; }`\n",
              "     so we also need the `!important` here to be able to override the\n",
              "     default hidden behavior on the sphinx rendered scikit-learn.org.\n",
              "     See: https://github.com/scikit-learn/scikit-learn/issues/21755 */\n",
              "  display: inline-block !important;\n",
              "  position: relative;\n",
              "}\n",
              "\n",
              "#sk-container-id-11 div.sk-text-repr-fallback {\n",
              "  display: none;\n",
              "}\n",
              "\n",
              "div.sk-parallel-item,\n",
              "div.sk-serial,\n",
              "div.sk-item {\n",
              "  /* draw centered vertical line to link estimators */\n",
              "  background-image: linear-gradient(var(--sklearn-color-text-on-default-background), var(--sklearn-color-text-on-default-background));\n",
              "  background-size: 2px 100%;\n",
              "  background-repeat: no-repeat;\n",
              "  background-position: center center;\n",
              "}\n",
              "\n",
              "/* Parallel-specific style estimator block */\n",
              "\n",
              "#sk-container-id-11 div.sk-parallel-item::after {\n",
              "  content: \"\";\n",
              "  width: 100%;\n",
              "  border-bottom: 2px solid var(--sklearn-color-text-on-default-background);\n",
              "  flex-grow: 1;\n",
              "}\n",
              "\n",
              "#sk-container-id-11 div.sk-parallel {\n",
              "  display: flex;\n",
              "  align-items: stretch;\n",
              "  justify-content: center;\n",
              "  background-color: var(--sklearn-color-background);\n",
              "  position: relative;\n",
              "}\n",
              "\n",
              "#sk-container-id-11 div.sk-parallel-item {\n",
              "  display: flex;\n",
              "  flex-direction: column;\n",
              "}\n",
              "\n",
              "#sk-container-id-11 div.sk-parallel-item:first-child::after {\n",
              "  align-self: flex-end;\n",
              "  width: 50%;\n",
              "}\n",
              "\n",
              "#sk-container-id-11 div.sk-parallel-item:last-child::after {\n",
              "  align-self: flex-start;\n",
              "  width: 50%;\n",
              "}\n",
              "\n",
              "#sk-container-id-11 div.sk-parallel-item:only-child::after {\n",
              "  width: 0;\n",
              "}\n",
              "\n",
              "/* Serial-specific style estimator block */\n",
              "\n",
              "#sk-container-id-11 div.sk-serial {\n",
              "  display: flex;\n",
              "  flex-direction: column;\n",
              "  align-items: center;\n",
              "  background-color: var(--sklearn-color-background);\n",
              "  padding-right: 1em;\n",
              "  padding-left: 1em;\n",
              "}\n",
              "\n",
              "\n",
              "/* Toggleable style: style used for estimator/Pipeline/ColumnTransformer box that is\n",
              "clickable and can be expanded/collapsed.\n",
              "- Pipeline and ColumnTransformer use this feature and define the default style\n",
              "- Estimators will overwrite some part of the style using the `sk-estimator` class\n",
              "*/\n",
              "\n",
              "/* Pipeline and ColumnTransformer style (default) */\n",
              "\n",
              "#sk-container-id-11 div.sk-toggleable {\n",
              "  /* Default theme specific background. It is overwritten whether we have a\n",
              "  specific estimator or a Pipeline/ColumnTransformer */\n",
              "  background-color: var(--sklearn-color-background);\n",
              "}\n",
              "\n",
              "/* Toggleable label */\n",
              "#sk-container-id-11 label.sk-toggleable__label {\n",
              "  cursor: pointer;\n",
              "  display: block;\n",
              "  width: 100%;\n",
              "  margin-bottom: 0;\n",
              "  padding: 0.5em;\n",
              "  box-sizing: border-box;\n",
              "  text-align: center;\n",
              "}\n",
              "\n",
              "#sk-container-id-11 label.sk-toggleable__label-arrow:before {\n",
              "  /* Arrow on the left of the label */\n",
              "  content: \"▸\";\n",
              "  float: left;\n",
              "  margin-right: 0.25em;\n",
              "  color: var(--sklearn-color-icon);\n",
              "}\n",
              "\n",
              "#sk-container-id-11 label.sk-toggleable__label-arrow:hover:before {\n",
              "  color: var(--sklearn-color-text);\n",
              "}\n",
              "\n",
              "/* Toggleable content - dropdown */\n",
              "\n",
              "#sk-container-id-11 div.sk-toggleable__content {\n",
              "  max-height: 0;\n",
              "  max-width: 0;\n",
              "  overflow: hidden;\n",
              "  text-align: left;\n",
              "  /* unfitted */\n",
              "  background-color: var(--sklearn-color-unfitted-level-0);\n",
              "}\n",
              "\n",
              "#sk-container-id-11 div.sk-toggleable__content.fitted {\n",
              "  /* fitted */\n",
              "  background-color: var(--sklearn-color-fitted-level-0);\n",
              "}\n",
              "\n",
              "#sk-container-id-11 div.sk-toggleable__content pre {\n",
              "  margin: 0.2em;\n",
              "  border-radius: 0.25em;\n",
              "  color: var(--sklearn-color-text);\n",
              "  /* unfitted */\n",
              "  background-color: var(--sklearn-color-unfitted-level-0);\n",
              "}\n",
              "\n",
              "#sk-container-id-11 div.sk-toggleable__content.fitted pre {\n",
              "  /* unfitted */\n",
              "  background-color: var(--sklearn-color-fitted-level-0);\n",
              "}\n",
              "\n",
              "#sk-container-id-11 input.sk-toggleable__control:checked~div.sk-toggleable__content {\n",
              "  /* Expand drop-down */\n",
              "  max-height: 200px;\n",
              "  max-width: 100%;\n",
              "  overflow: auto;\n",
              "}\n",
              "\n",
              "#sk-container-id-11 input.sk-toggleable__control:checked~label.sk-toggleable__label-arrow:before {\n",
              "  content: \"▾\";\n",
              "}\n",
              "\n",
              "/* Pipeline/ColumnTransformer-specific style */\n",
              "\n",
              "#sk-container-id-11 div.sk-label input.sk-toggleable__control:checked~label.sk-toggleable__label {\n",
              "  color: var(--sklearn-color-text);\n",
              "  background-color: var(--sklearn-color-unfitted-level-2);\n",
              "}\n",
              "\n",
              "#sk-container-id-11 div.sk-label.fitted input.sk-toggleable__control:checked~label.sk-toggleable__label {\n",
              "  background-color: var(--sklearn-color-fitted-level-2);\n",
              "}\n",
              "\n",
              "/* Estimator-specific style */\n",
              "\n",
              "/* Colorize estimator box */\n",
              "#sk-container-id-11 div.sk-estimator input.sk-toggleable__control:checked~label.sk-toggleable__label {\n",
              "  /* unfitted */\n",
              "  background-color: var(--sklearn-color-unfitted-level-2);\n",
              "}\n",
              "\n",
              "#sk-container-id-11 div.sk-estimator.fitted input.sk-toggleable__control:checked~label.sk-toggleable__label {\n",
              "  /* fitted */\n",
              "  background-color: var(--sklearn-color-fitted-level-2);\n",
              "}\n",
              "\n",
              "#sk-container-id-11 div.sk-label label.sk-toggleable__label,\n",
              "#sk-container-id-11 div.sk-label label {\n",
              "  /* The background is the default theme color */\n",
              "  color: var(--sklearn-color-text-on-default-background);\n",
              "}\n",
              "\n",
              "/* On hover, darken the color of the background */\n",
              "#sk-container-id-11 div.sk-label:hover label.sk-toggleable__label {\n",
              "  color: var(--sklearn-color-text);\n",
              "  background-color: var(--sklearn-color-unfitted-level-2);\n",
              "}\n",
              "\n",
              "/* Label box, darken color on hover, fitted */\n",
              "#sk-container-id-11 div.sk-label.fitted:hover label.sk-toggleable__label.fitted {\n",
              "  color: var(--sklearn-color-text);\n",
              "  background-color: var(--sklearn-color-fitted-level-2);\n",
              "}\n",
              "\n",
              "/* Estimator label */\n",
              "\n",
              "#sk-container-id-11 div.sk-label label {\n",
              "  font-family: monospace;\n",
              "  font-weight: bold;\n",
              "  display: inline-block;\n",
              "  line-height: 1.2em;\n",
              "}\n",
              "\n",
              "#sk-container-id-11 div.sk-label-container {\n",
              "  text-align: center;\n",
              "}\n",
              "\n",
              "/* Estimator-specific */\n",
              "#sk-container-id-11 div.sk-estimator {\n",
              "  font-family: monospace;\n",
              "  border: 1px dotted var(--sklearn-color-border-box);\n",
              "  border-radius: 0.25em;\n",
              "  box-sizing: border-box;\n",
              "  margin-bottom: 0.5em;\n",
              "  /* unfitted */\n",
              "  background-color: var(--sklearn-color-unfitted-level-0);\n",
              "}\n",
              "\n",
              "#sk-container-id-11 div.sk-estimator.fitted {\n",
              "  /* fitted */\n",
              "  background-color: var(--sklearn-color-fitted-level-0);\n",
              "}\n",
              "\n",
              "/* on hover */\n",
              "#sk-container-id-11 div.sk-estimator:hover {\n",
              "  /* unfitted */\n",
              "  background-color: var(--sklearn-color-unfitted-level-2);\n",
              "}\n",
              "\n",
              "#sk-container-id-11 div.sk-estimator.fitted:hover {\n",
              "  /* fitted */\n",
              "  background-color: var(--sklearn-color-fitted-level-2);\n",
              "}\n",
              "\n",
              "/* Specification for estimator info (e.g. \"i\" and \"?\") */\n",
              "\n",
              "/* Common style for \"i\" and \"?\" */\n",
              "\n",
              ".sk-estimator-doc-link,\n",
              "a:link.sk-estimator-doc-link,\n",
              "a:visited.sk-estimator-doc-link {\n",
              "  float: right;\n",
              "  font-size: smaller;\n",
              "  line-height: 1em;\n",
              "  font-family: monospace;\n",
              "  background-color: var(--sklearn-color-background);\n",
              "  border-radius: 1em;\n",
              "  height: 1em;\n",
              "  width: 1em;\n",
              "  text-decoration: none !important;\n",
              "  margin-left: 1ex;\n",
              "  /* unfitted */\n",
              "  border: var(--sklearn-color-unfitted-level-1) 1pt solid;\n",
              "  color: var(--sklearn-color-unfitted-level-1);\n",
              "}\n",
              "\n",
              ".sk-estimator-doc-link.fitted,\n",
              "a:link.sk-estimator-doc-link.fitted,\n",
              "a:visited.sk-estimator-doc-link.fitted {\n",
              "  /* fitted */\n",
              "  border: var(--sklearn-color-fitted-level-1) 1pt solid;\n",
              "  color: var(--sklearn-color-fitted-level-1);\n",
              "}\n",
              "\n",
              "/* On hover */\n",
              "div.sk-estimator:hover .sk-estimator-doc-link:hover,\n",
              ".sk-estimator-doc-link:hover,\n",
              "div.sk-label-container:hover .sk-estimator-doc-link:hover,\n",
              ".sk-estimator-doc-link:hover {\n",
              "  /* unfitted */\n",
              "  background-color: var(--sklearn-color-unfitted-level-3);\n",
              "  color: var(--sklearn-color-background);\n",
              "  text-decoration: none;\n",
              "}\n",
              "\n",
              "div.sk-estimator.fitted:hover .sk-estimator-doc-link.fitted:hover,\n",
              ".sk-estimator-doc-link.fitted:hover,\n",
              "div.sk-label-container:hover .sk-estimator-doc-link.fitted:hover,\n",
              ".sk-estimator-doc-link.fitted:hover {\n",
              "  /* fitted */\n",
              "  background-color: var(--sklearn-color-fitted-level-3);\n",
              "  color: var(--sklearn-color-background);\n",
              "  text-decoration: none;\n",
              "}\n",
              "\n",
              "/* Span, style for the box shown on hovering the info icon */\n",
              ".sk-estimator-doc-link span {\n",
              "  display: none;\n",
              "  z-index: 9999;\n",
              "  position: relative;\n",
              "  font-weight: normal;\n",
              "  right: .2ex;\n",
              "  padding: .5ex;\n",
              "  margin: .5ex;\n",
              "  width: min-content;\n",
              "  min-width: 20ex;\n",
              "  max-width: 50ex;\n",
              "  color: var(--sklearn-color-text);\n",
              "  box-shadow: 2pt 2pt 4pt #999;\n",
              "  /* unfitted */\n",
              "  background: var(--sklearn-color-unfitted-level-0);\n",
              "  border: .5pt solid var(--sklearn-color-unfitted-level-3);\n",
              "}\n",
              "\n",
              ".sk-estimator-doc-link.fitted span {\n",
              "  /* fitted */\n",
              "  background: var(--sklearn-color-fitted-level-0);\n",
              "  border: var(--sklearn-color-fitted-level-3);\n",
              "}\n",
              "\n",
              ".sk-estimator-doc-link:hover span {\n",
              "  display: block;\n",
              "}\n",
              "\n",
              "/* \"?\"-specific style due to the `<a>` HTML tag */\n",
              "\n",
              "#sk-container-id-11 a.estimator_doc_link {\n",
              "  float: right;\n",
              "  font-size: 1rem;\n",
              "  line-height: 1em;\n",
              "  font-family: monospace;\n",
              "  background-color: var(--sklearn-color-background);\n",
              "  border-radius: 1rem;\n",
              "  height: 1rem;\n",
              "  width: 1rem;\n",
              "  text-decoration: none;\n",
              "  /* unfitted */\n",
              "  color: var(--sklearn-color-unfitted-level-1);\n",
              "  border: var(--sklearn-color-unfitted-level-1) 1pt solid;\n",
              "}\n",
              "\n",
              "#sk-container-id-11 a.estimator_doc_link.fitted {\n",
              "  /* fitted */\n",
              "  border: var(--sklearn-color-fitted-level-1) 1pt solid;\n",
              "  color: var(--sklearn-color-fitted-level-1);\n",
              "}\n",
              "\n",
              "/* On hover */\n",
              "#sk-container-id-11 a.estimator_doc_link:hover {\n",
              "  /* unfitted */\n",
              "  background-color: var(--sklearn-color-unfitted-level-3);\n",
              "  color: var(--sklearn-color-background);\n",
              "  text-decoration: none;\n",
              "}\n",
              "\n",
              "#sk-container-id-11 a.estimator_doc_link.fitted:hover {\n",
              "  /* fitted */\n",
              "  background-color: var(--sklearn-color-fitted-level-3);\n",
              "}\n",
              "</style><div id=\"sk-container-id-11\" class=\"sk-top-container\"><div class=\"sk-text-repr-fallback\"><pre>LinearRegression(fit_intercept=False)</pre><b>In a Jupyter environment, please rerun this cell to show the HTML representation or trust the notebook. <br />On GitHub, the HTML representation is unable to render, please try loading this page with nbviewer.org.</b></div><div class=\"sk-container\" hidden><div class=\"sk-item\"><div class=\"sk-estimator fitted sk-toggleable\"><input class=\"sk-toggleable__control sk-hidden--visually\" id=\"sk-estimator-id-11\" type=\"checkbox\" checked><label for=\"sk-estimator-id-11\" class=\"sk-toggleable__label fitted sk-toggleable__label-arrow fitted\">&nbsp;&nbsp;LinearRegression<a class=\"sk-estimator-doc-link fitted\" rel=\"noreferrer\" target=\"_blank\" href=\"https://scikit-learn.org/1.5/modules/generated/sklearn.linear_model.LinearRegression.html\">?<span>Documentation for LinearRegression</span></a><span class=\"sk-estimator-doc-link fitted\">i<span>Fitted</span></span></label><div class=\"sk-toggleable__content fitted\"><pre>LinearRegression(fit_intercept=False)</pre></div> </div></div></div></div>"
            ],
            "text/plain": [
              "LinearRegression(fit_intercept=False)"
            ]
          },
          "execution_count": 285,
          "metadata": {},
          "output_type": "execute_result"
        }
      ],
      "source": [
        "# # Prepare data for the new model with numeric and categorical features\n",
        "X = dum_features[['total_bill', 'size'] + [col for col in dum_features.columns if col.startswith('day_')]]\n",
        "y = data['tip']\n",
        "\n",
        "# Create and fit the model\n",
        "model = LinearRegression(fit_intercept = False)\n",
        "model.fit(X, y)"
      ]
    },
    {
      "cell_type": "code",
      "execution_count": null,
      "metadata": {
        "id": "_Wsg0kWdyG9G",
        "outputId": "6eb8077b-f054-464b-a57e-16ad1f2168c6"
      },
      "outputs": [
        {
          "name": "stdout",
          "output_type": "stream",
          "text": [
            "Coefficients:\n",
            "Total Bill: 0.09\n",
            "Party Size: 0.19\n",
            "Thursday: 0.67\n",
            "Friday: 0.75\n",
            "Saturday: 0.62\n",
            "Sunday: 0.73\n"
          ]
        }
      ],
      "source": [
        "# Display coefficients\n",
        "print(\"Coefficients:\")\n",
        "print(f\"Total Bill: {model.coef_[0]:.2f}\")\n",
        "print(f\"Party Size: {model.coef_[1]:.2f}\")\n",
        "print(f\"Thursday: {model.coef_[2]:.2f}\")\n",
        "print(f\"Friday: {model.coef_[3]:.2f}\")\n",
        "print(f\"Saturday: {model.coef_[4]:.2f}\")\n",
        "print(f\"Sunday: {model.coef_[5]:.2f}\")"
      ]
    },
    {
      "cell_type": "markdown",
      "source": [
        "Using **model.coef_**, we get the coefficients of the model as shown above."
      ],
      "metadata": {
        "id": "vd2sSqJS_UeO"
      }
    },
    {
      "cell_type": "markdown",
      "metadata": {
        "id": "Ni-3IGNByG9G"
      },
      "source": [
        "**Observation:**\n",
        "- Each coefficient now shows how much that factor influences the tip amount."
      ]
    },
    {
      "cell_type": "markdown",
      "source": [
        "Our updated equation will look like this:\n",
        "\n",
        "**Tip = (0.09 × Total Bill) + (0.19 × Size) + (0.67 × day_Thur) + (0.75 × day_Fri) + (0.62 × day_Sat) + (0.73 × day_Sun)**\n",
        "\n",
        "This model suggests that:\n",
        "\n",
        "· For every dollar on the bill, the tip increases by 9 cents\n",
        "\n",
        "· For each additional person, the tip increases by 19 cents\n",
        "\n",
        "· If it’s Thursday, add an extra 67 cents to the tip\n",
        "\n",
        "· If it’s Friday, add an extra 75 cents to the tip\n",
        "\n",
        "· If it’s Saturday, add an extra 62 cents\n",
        "\n",
        "· If it’s Sunday, add an extra 73 cents\n",
        "\n",
        "So, if we have a table of 4 people on a Saturday and the total bill was $30:\n",
        "\n",
        "**Predicted Tip** = (0.09 × $30) + (0.19 × 4) + (0.62 × 1)\n",
        "\n",
        "=> \\$2.7 + \\$0.76 + $0.62\n",
        "\n",
        "=> $4.08"
      ],
      "metadata": {
        "id": "mNVD28kp_kFH"
      }
    },
    {
      "cell_type": "markdown",
      "metadata": {
        "id": "Cv7jiOvdyG9H"
      },
      "source": [
        "**Final Observations:**\n",
        "1. Our simple linear regression model showed a clear relationship between total bill and tip amount.\n",
        "2. We learned how to evaluate and optimize our model using loss functions.\n",
        "3. Adding more features, including categorical data, can improve our model's accuracy but also increases complexity.\n",
        "4. The choice between a simple and complex model often depends on the specific use case and the need for interpretability."
      ]
    },
    {
      "cell_type": "markdown",
      "metadata": {
        "id": "Cn_6gvnGyG9H"
      },
      "source": [
        "## Conclusion\n",
        "In this notebook, we've explored linear regression from simple to more complex models. We've seen how to:\n",
        "1. Build a simple linear regression model\n",
        "2. Evaluate and optimize our model using loss functions\n",
        "3. Use multiple features, including non-numeric ones, to improve our predictions"
      ]
    },
    {
      "cell_type": "markdown",
      "source": [
        "By considering many features, our more complex model might be more accurate, but it’s also harder to explain. Imagine trying to explain a restaurant staff, *‘Your tips are calculated by taking 9% of the bill, adding 19 cents per person, and then adjusting based on the day of the week.’* It’s not as intuitive as saying, *‘People typically tip about 15% of the bill.’*\n",
        "\n",
        "In some real-world applications, like medical diagnosis or loan approval, being able to explain how a model makes decisions can be just as important as the accuracy of those decisions. So in practice, we often need to balance the desire for accuracy with the need for a simple, easy-to-understand model by selecting only the most important features to include in the final model."
      ],
      "metadata": {
        "id": "5JgFr61L_-jS"
      }
    }
  ],
  "metadata": {
    "kernelspec": {
      "display_name": "Python 3 (ipykernel)",
      "language": "python",
      "name": "python3"
    },
    "language_info": {
      "codemirror_mode": {
        "name": "ipython",
        "version": 3
      },
      "file_extension": ".py",
      "mimetype": "text/x-python",
      "name": "python",
      "nbconvert_exporter": "python",
      "pygments_lexer": "ipython3",
      "version": "3.11.7"
    },
    "colab": {
      "provenance": []
    }
  },
  "nbformat": 4,
  "nbformat_minor": 0
}